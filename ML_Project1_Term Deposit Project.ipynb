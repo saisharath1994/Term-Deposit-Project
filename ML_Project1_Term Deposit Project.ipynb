{
 "cells": [
  {
   "cell_type": "code",
   "execution_count": 1,
   "metadata": {},
   "outputs": [],
   "source": [
    "#Loading the required libraries\n",
    "\n",
    "import pandas as pd\n",
    "import numpy as np\n",
    "\n",
    "#from sklearn.preprocessing import StandardScaler\n",
    "from sklearn.model_selection import train_test_split\n",
    "from sklearn.metrics import confusion_matrix, roc_curve, auc\n",
    "from sklearn import tree\n",
    "from sklearn.model_selection import GridSearchCV\n",
    "\n",
    "import matplotlib.pyplot as plt"
   ]
  },
  {
   "cell_type": "code",
   "execution_count": 2,
   "metadata": {},
   "outputs": [],
   "source": [
    "data = pd.read_csv(\"Bank.csv\",header=0)"
   ]
  },
  {
   "cell_type": "code",
   "execution_count": 3,
   "metadata": {},
   "outputs": [
    {
     "data": {
      "text/html": [
       "<div>\n",
       "<style scoped>\n",
       "    .dataframe tbody tr th:only-of-type {\n",
       "        vertical-align: middle;\n",
       "    }\n",
       "\n",
       "    .dataframe tbody tr th {\n",
       "        vertical-align: top;\n",
       "    }\n",
       "\n",
       "    .dataframe thead th {\n",
       "        text-align: right;\n",
       "    }\n",
       "</style>\n",
       "<table border=\"1\" class=\"dataframe\">\n",
       "  <thead>\n",
       "    <tr style=\"text-align: right;\">\n",
       "      <th></th>\n",
       "      <th>age</th>\n",
       "      <th>job</th>\n",
       "      <th>marital</th>\n",
       "      <th>education</th>\n",
       "      <th>default</th>\n",
       "      <th>balance</th>\n",
       "      <th>housing</th>\n",
       "      <th>loan</th>\n",
       "      <th>contact</th>\n",
       "      <th>day</th>\n",
       "      <th>month</th>\n",
       "      <th>duration</th>\n",
       "      <th>campaign</th>\n",
       "      <th>pdays</th>\n",
       "      <th>previous</th>\n",
       "      <th>poutcome</th>\n",
       "      <th>y</th>\n",
       "    </tr>\n",
       "  </thead>\n",
       "  <tbody>\n",
       "    <tr>\n",
       "      <th>0</th>\n",
       "      <td>30</td>\n",
       "      <td>unemployed</td>\n",
       "      <td>married</td>\n",
       "      <td>primary</td>\n",
       "      <td>no</td>\n",
       "      <td>1787</td>\n",
       "      <td>no</td>\n",
       "      <td>no</td>\n",
       "      <td>cellular</td>\n",
       "      <td>19</td>\n",
       "      <td>oct</td>\n",
       "      <td>79</td>\n",
       "      <td>1</td>\n",
       "      <td>-1</td>\n",
       "      <td>0</td>\n",
       "      <td>unknown</td>\n",
       "      <td>no</td>\n",
       "    </tr>\n",
       "    <tr>\n",
       "      <th>1</th>\n",
       "      <td>33</td>\n",
       "      <td>services</td>\n",
       "      <td>married</td>\n",
       "      <td>secondary</td>\n",
       "      <td>no</td>\n",
       "      <td>4789</td>\n",
       "      <td>yes</td>\n",
       "      <td>yes</td>\n",
       "      <td>cellular</td>\n",
       "      <td>11</td>\n",
       "      <td>may</td>\n",
       "      <td>220</td>\n",
       "      <td>1</td>\n",
       "      <td>339</td>\n",
       "      <td>4</td>\n",
       "      <td>failure</td>\n",
       "      <td>no</td>\n",
       "    </tr>\n",
       "    <tr>\n",
       "      <th>2</th>\n",
       "      <td>35</td>\n",
       "      <td>management</td>\n",
       "      <td>single</td>\n",
       "      <td>tertiary</td>\n",
       "      <td>no</td>\n",
       "      <td>1350</td>\n",
       "      <td>yes</td>\n",
       "      <td>no</td>\n",
       "      <td>cellular</td>\n",
       "      <td>16</td>\n",
       "      <td>apr</td>\n",
       "      <td>185</td>\n",
       "      <td>1</td>\n",
       "      <td>330</td>\n",
       "      <td>1</td>\n",
       "      <td>failure</td>\n",
       "      <td>no</td>\n",
       "    </tr>\n",
       "    <tr>\n",
       "      <th>3</th>\n",
       "      <td>30</td>\n",
       "      <td>management</td>\n",
       "      <td>married</td>\n",
       "      <td>tertiary</td>\n",
       "      <td>no</td>\n",
       "      <td>1476</td>\n",
       "      <td>yes</td>\n",
       "      <td>yes</td>\n",
       "      <td>unknown</td>\n",
       "      <td>3</td>\n",
       "      <td>jun</td>\n",
       "      <td>199</td>\n",
       "      <td>4</td>\n",
       "      <td>-1</td>\n",
       "      <td>0</td>\n",
       "      <td>unknown</td>\n",
       "      <td>no</td>\n",
       "    </tr>\n",
       "    <tr>\n",
       "      <th>4</th>\n",
       "      <td>59</td>\n",
       "      <td>blue-collar</td>\n",
       "      <td>married</td>\n",
       "      <td>secondary</td>\n",
       "      <td>no</td>\n",
       "      <td>0</td>\n",
       "      <td>yes</td>\n",
       "      <td>no</td>\n",
       "      <td>unknown</td>\n",
       "      <td>5</td>\n",
       "      <td>may</td>\n",
       "      <td>226</td>\n",
       "      <td>1</td>\n",
       "      <td>-1</td>\n",
       "      <td>0</td>\n",
       "      <td>unknown</td>\n",
       "      <td>no</td>\n",
       "    </tr>\n",
       "  </tbody>\n",
       "</table>\n",
       "</div>"
      ],
      "text/plain": [
       "   age          job  marital  education default  balance housing loan  \\\n",
       "0   30   unemployed  married    primary      no     1787      no   no   \n",
       "1   33     services  married  secondary      no     4789     yes  yes   \n",
       "2   35   management   single   tertiary      no     1350     yes   no   \n",
       "3   30   management  married   tertiary      no     1476     yes  yes   \n",
       "4   59  blue-collar  married  secondary      no        0     yes   no   \n",
       "\n",
       "    contact  day month  duration  campaign  pdays  previous poutcome   y  \n",
       "0  cellular   19   oct        79         1     -1         0  unknown  no  \n",
       "1  cellular   11   may       220         1    339         4  failure  no  \n",
       "2  cellular   16   apr       185         1    330         1  failure  no  \n",
       "3   unknown    3   jun       199         4     -1         0  unknown  no  \n",
       "4   unknown    5   may       226         1     -1         0  unknown  no  "
      ]
     },
     "execution_count": 3,
     "metadata": {},
     "output_type": "execute_result"
    }
   ],
   "source": [
    "data.head()"
   ]
  },
  {
   "cell_type": "code",
   "execution_count": 4,
   "metadata": {},
   "outputs": [
    {
     "data": {
      "text/plain": [
       "age           int64\n",
       "job          object\n",
       "marital      object\n",
       "education    object\n",
       "default      object\n",
       "balance       int64\n",
       "housing      object\n",
       "loan         object\n",
       "contact      object\n",
       "day           int64\n",
       "month        object\n",
       "duration      int64\n",
       "campaign      int64\n",
       "pdays         int64\n",
       "previous      int64\n",
       "poutcome     object\n",
       "y            object\n",
       "dtype: object"
      ]
     },
     "execution_count": 4,
     "metadata": {},
     "output_type": "execute_result"
    }
   ],
   "source": [
    "data.dtypes"
   ]
  },
  {
   "cell_type": "code",
   "execution_count": 5,
   "metadata": {},
   "outputs": [],
   "source": [
    "for col in ['job', 'marital', 'education', 'default', 'housing', 'loan', 'contact', 'month', 'poutcome','y']:\n",
    "\n",
    "    data[col] = data[col].astype('category')"
   ]
  },
  {
   "cell_type": "code",
   "execution_count": 6,
   "metadata": {},
   "outputs": [
    {
     "data": {
      "text/plain": [
       "age          0\n",
       "job          0\n",
       "marital      0\n",
       "education    0\n",
       "default      0\n",
       "balance      0\n",
       "housing      0\n",
       "loan         0\n",
       "contact      0\n",
       "day          0\n",
       "month        0\n",
       "duration     0\n",
       "campaign     0\n",
       "pdays        0\n",
       "previous     0\n",
       "poutcome     0\n",
       "y            0\n",
       "dtype: int64"
      ]
     },
     "execution_count": 6,
     "metadata": {},
     "output_type": "execute_result"
    }
   ],
   "source": [
    "data.isnull().sum()"
   ]
  },
  {
   "cell_type": "code",
   "execution_count": 7,
   "metadata": {},
   "outputs": [
    {
     "data": {
      "text/plain": [
       "Index(['job', 'marital', 'education', 'default', 'housing', 'loan', 'contact',\n",
       "       'month', 'poutcome', 'y'],\n",
       "      dtype='object')"
      ]
     },
     "execution_count": 7,
     "metadata": {},
     "output_type": "execute_result"
    }
   ],
   "source": [
    "categorical_Attributes = data.select_dtypes(include=['category']).columns\n",
    "categorical_Attributes"
   ]
  },
  {
   "cell_type": "code",
   "execution_count": 8,
   "metadata": {},
   "outputs": [
    {
     "name": "stdout",
     "output_type": "stream",
     "text": [
      "Index(['age', 'balance', 'day', 'duration', 'campaign', 'pdays', 'previous',\n",
      "       'job_blue-collar', 'job_entrepreneur', 'job_housemaid',\n",
      "       'job_management', 'job_retired', 'job_self-employed', 'job_services',\n",
      "       'job_student', 'job_technician', 'job_unemployed', 'job_unknown',\n",
      "       'marital_married', 'marital_single', 'education_secondary',\n",
      "       'education_tertiary', 'education_unknown', 'default_yes', 'housing_yes',\n",
      "       'loan_yes', 'contact_telephone', 'contact_unknown', 'month_aug',\n",
      "       'month_dec', 'month_feb', 'month_jan', 'month_jul', 'month_jun',\n",
      "       'month_mar', 'month_may', 'month_nov', 'month_oct', 'month_sep',\n",
      "       'poutcome_other', 'poutcome_success', 'poutcome_unknown', 'y_yes'],\n",
      "      dtype='object') (4521, 43)\n"
     ]
    }
   ],
   "source": [
    "data = pd.get_dummies(columns=categorical_Attributes, data=data, prefix=categorical_Attributes, prefix_sep=\"_\", drop_first=True)\n",
    "print (data.columns, data.shape)"
   ]
  },
  {
   "cell_type": "code",
   "execution_count": 9,
   "metadata": {},
   "outputs": [
    {
     "name": "stdout",
     "output_type": "stream",
     "text": [
      "<class 'numpy.ndarray'>\n"
     ]
    }
   ],
   "source": [
    "#Split the data in to train and test\n",
    "\n",
    "X, y = data.loc[:,data.columns!='y_yes'].values, data.loc[:,'y_yes'].values\n",
    "\n",
    "print(type(X))\n",
    "\n",
    "#num_array\n",
    "\n",
    "X_train, X_test, y_train, y_test = train_test_split(X, y, test_size=0.25, random_state=123)"
   ]
  },
  {
   "cell_type": "code",
   "execution_count": 10,
   "metadata": {},
   "outputs": [
    {
     "data": {
      "text/plain": [
       "array([[  32,  101,   19, ...,    0,    0,    1],\n",
       "       [  44, 3762,   28, ...,    0,    0,    1],\n",
       "       [  54, 4503,   21, ...,    0,    0,    1],\n",
       "       ...,\n",
       "       [  34, 1499,   13, ...,    0,    0,    0],\n",
       "       [  59,  174,   16, ...,    0,    0,    1],\n",
       "       [  36,    0,   27, ...,    0,    0,    1]], dtype=int64)"
      ]
     },
     "execution_count": 10,
     "metadata": {},
     "output_type": "execute_result"
    }
   ],
   "source": [
    "X_train"
   ]
  },
  {
   "cell_type": "code",
   "execution_count": 11,
   "metadata": {},
   "outputs": [
    {
     "name": "stdout",
     "output_type": "stream",
     "text": [
      "0    2992\n",
      "1     398\n",
      "dtype: int64\n",
      "0    1008\n",
      "1     123\n",
      "dtype: int64\n"
     ]
    }
   ],
   "source": [
    "print(pd.value_counts(y_train))\n",
    "print(pd.value_counts(y_test))"
   ]
  },
  {
   "cell_type": "code",
   "execution_count": 12,
   "metadata": {},
   "outputs": [],
   "source": [
    "clf = tree.DecisionTreeClassifier()\n",
    "clf = clf.fit(X_train, y_train)"
   ]
  },
  {
   "cell_type": "code",
   "execution_count": 13,
   "metadata": {},
   "outputs": [
    {
     "data": {
      "text/plain": [
       "[Text(228.16908703819203, 213.55714285714285, 'X[3] <= 387.5\\ngini = 0.207\\nsamples = 3390\\nvalue = [2992, 398]'),\n",
       " Text(168.92902900390777, 205.79142857142858, 'X[40] <= 0.5\\ngini = 0.122\\nsamples = 2720\\nvalue = [2543, 177]'),\n",
       " Text(147.27465680983423, 198.0257142857143, 'X[37] <= 0.5\\ngini = 0.093\\nsamples = 2647\\nvalue = [2517, 130]'),\n",
       " Text(121.81994735494914, 190.26, 'X[34] <= 0.5\\ngini = 0.082\\nsamples = 2602\\nvalue = [2490, 112]'),\n",
       " Text(87.08022046020878, 182.4942857142857, 'X[3] <= 222.5\\ngini = 0.075\\nsamples = 2572\\nvalue = [2472, 100]'),\n",
       " Text(34.38230776486865, 174.72857142857143, 'X[0] <= 70.5\\ngini = 0.039\\nsamples = 1904\\nvalue = [1866, 38]'),\n",
       " Text(15.6393871743676, 166.96285714285713, 'X[0] <= 19.5\\ngini = 0.036\\nsamples = 1894\\nvalue = [1859, 35]'),\n",
       " Text(2.694948669171632, 159.19714285714286, 'X[32] <= 0.5\\ngini = 0.5\\nsamples = 2\\nvalue = [1, 1]'),\n",
       " Text(1.347474334585816, 151.43142857142857, 'gini = 0.0\\nsamples = 1\\nvalue = [1, 0]'),\n",
       " Text(4.042423003757448, 151.43142857142857, 'gini = 0.0\\nsamples = 1\\nvalue = [0, 1]'),\n",
       " Text(28.58382567956357, 159.19714285714286, 'X[3] <= 90.5\\ngini = 0.035\\nsamples = 1892\\nvalue = [1858, 34]'),\n",
       " Text(6.73737167292908, 151.43142857142857, 'X[12] <= 0.5\\ngini = 0.003\\nsamples = 652\\nvalue = [651, 1]'),\n",
       " Text(5.389897338343264, 143.66571428571427, 'gini = 0.0\\nsamples = 624\\nvalue = [624, 0]'),\n",
       " Text(8.084846007514896, 143.66571428571427, 'X[1] <= 22.0\\ngini = 0.069\\nsamples = 28\\nvalue = [27, 1]'),\n",
       " Text(6.73737167292908, 135.89999999999998, 'X[19] <= 0.5\\ngini = 0.5\\nsamples = 2\\nvalue = [1, 1]'),\n",
       " Text(5.389897338343264, 128.1342857142857, 'gini = 0.0\\nsamples = 1\\nvalue = [0, 1]'),\n",
       " Text(8.084846007514896, 128.1342857142857, 'gini = 0.0\\nsamples = 1\\nvalue = [1, 0]'),\n",
       " Text(9.432320342100713, 135.89999999999998, 'gini = 0.0\\nsamples = 26\\nvalue = [26, 0]'),\n",
       " Text(50.43027968619806, 151.43142857142857, 'X[30] <= 0.5\\ngini = 0.052\\nsamples = 1240\\nvalue = [1207, 33]'),\n",
       " Text(35.67648843680727, 143.66571428571427, 'X[5] <= 70.0\\ngini = 0.045\\nsamples = 1175\\nvalue = [1148, 27]'),\n",
       " Text(20.991123618469665, 135.89999999999998, 'X[0] <= 26.5\\ngini = 0.033\\nsamples = 998\\nvalue = [981, 17]'),\n",
       " Text(10.779794676686528, 128.1342857142857, 'X[10] <= 0.5\\ngini = 0.161\\nsamples = 34\\nvalue = [31, 3]'),\n",
       " Text(7.4111088402219885, 120.36857142857143, 'X[26] <= 0.5\\ngini = 0.117\\nsamples = 32\\nvalue = [30, 2]'),\n",
       " Text(4.7161601710503565, 112.60285714285713, 'X[1] <= 13.0\\ngini = 0.064\\nsamples = 30\\nvalue = [29, 1]'),\n",
       " Text(3.36868583646454, 104.83714285714285, 'X[1] <= 6.5\\ngini = 0.245\\nsamples = 7\\nvalue = [6, 1]'),\n",
       " Text(2.021211501878724, 97.07142857142857, 'gini = 0.0\\nsamples = 6\\nvalue = [6, 0]'),\n",
       " Text(4.7161601710503565, 97.07142857142857, 'gini = 0.0\\nsamples = 1\\nvalue = [0, 1]'),\n",
       " Text(6.063634505636172, 104.83714285714285, 'gini = 0.0\\nsamples = 23\\nvalue = [23, 0]'),\n",
       " Text(10.10605750939362, 112.60285714285713, 'X[28] <= 0.5\\ngini = 0.5\\nsamples = 2\\nvalue = [1, 1]'),\n",
       " Text(8.758583174807804, 104.83714285714285, 'gini = 0.0\\nsamples = 1\\nvalue = [1, 0]'),\n",
       " Text(11.453531843979436, 104.83714285714285, 'gini = 0.0\\nsamples = 1\\nvalue = [0, 1]'),\n",
       " Text(14.148480513151068, 120.36857142857143, 'X[2] <= 20.5\\ngini = 0.5\\nsamples = 2\\nvalue = [1, 1]'),\n",
       " Text(12.801006178565252, 112.60285714285713, 'gini = 0.0\\nsamples = 1\\nvalue = [0, 1]'),\n",
       " Text(15.495954847736884, 112.60285714285713, 'gini = 0.0\\nsamples = 1\\nvalue = [1, 0]'),\n",
       " Text(31.2024525602528, 128.1342857142857, 'X[0] <= 60.5\\ngini = 0.029\\nsamples = 964\\nvalue = [950, 14]'),\n",
       " Text(25.51779521121889, 120.36857142857143, 'X[0] <= 37.5\\ngini = 0.027\\nsamples = 957\\nvalue = [944, 13]'),\n",
       " Text(18.190903516908516, 112.60285714285713, 'X[27] <= 0.5\\ngini = 0.052\\nsamples = 413\\nvalue = [402, 11]'),\n",
       " Text(16.8434291823227, 104.83714285714285, 'X[33] <= 0.5\\ngini = 0.074\\nsamples = 287\\nvalue = [276, 11]'),\n",
       " Text(12.969440470388479, 97.07142857142857, 'X[13] <= 0.5\\ngini = 0.063\\nsamples = 278\\nvalue = [269, 9]'),\n",
       " Text(9.263886050277485, 89.30571428571429, 'X[0] <= 36.5\\ngini = 0.046\\nsamples = 255\\nvalue = [249, 6]'),\n",
       " Text(5.895200213812945, 81.53999999999999, 'X[3] <= 97.5\\ngini = 0.033\\nsamples = 239\\nvalue = [235, 4]'),\n",
       " Text(3.200251544641313, 73.7742857142857, 'X[0] <= 33.5\\ngini = 0.219\\nsamples = 16\\nvalue = [14, 2]'),\n",
       " Text(1.8527772100554971, 66.00857142857143, 'gini = 0.0\\nsamples = 10\\nvalue = [10, 0]'),\n",
       " Text(4.547725879227129, 66.00857142857143, 'X[2] <= 19.0\\ngini = 0.444\\nsamples = 6\\nvalue = [4, 2]'),\n",
       " Text(3.200251544641313, 58.24285714285713, 'gini = 0.0\\nsamples = 3\\nvalue = [3, 0]'),\n",
       " Text(5.895200213812945, 58.24285714285713, 'X[2] <= 26.0\\ngini = 0.444\\nsamples = 3\\nvalue = [1, 2]'),\n",
       " Text(4.547725879227129, 50.47714285714284, 'gini = 0.0\\nsamples = 2\\nvalue = [0, 2]'),\n",
       " Text(7.242674548398761, 50.47714285714284, 'gini = 0.0\\nsamples = 1\\nvalue = [1, 0]'),\n",
       " Text(8.590148882984577, 73.7742857142857, 'X[1] <= 1999.0\\ngini = 0.018\\nsamples = 223\\nvalue = [221, 2]'),\n",
       " Text(7.242674548398761, 66.00857142857143, 'gini = 0.0\\nsamples = 186\\nvalue = [186, 0]'),\n",
       " Text(9.937623217570392, 66.00857142857143, 'X[1] <= 2197.0\\ngini = 0.102\\nsamples = 37\\nvalue = [35, 2]'),\n",
       " Text(8.590148882984577, 58.24285714285713, 'gini = 0.0\\nsamples = 1\\nvalue = [0, 1]'),\n",
       " Text(11.28509755215621, 58.24285714285713, 'X[3] <= 211.5\\ngini = 0.054\\nsamples = 36\\nvalue = [35, 1]'),\n",
       " Text(9.937623217570392, 50.47714285714284, 'gini = 0.0\\nsamples = 34\\nvalue = [34, 0]'),\n",
       " Text(12.632571886742024, 50.47714285714284, 'X[4] <= 2.5\\ngini = 0.5\\nsamples = 2\\nvalue = [1, 1]'),\n",
       " Text(11.28509755215621, 42.71142857142857, 'gini = 0.0\\nsamples = 1\\nvalue = [1, 0]'),\n",
       " Text(13.980046221327841, 42.71142857142857, 'gini = 0.0\\nsamples = 1\\nvalue = [0, 1]'),\n",
       " Text(12.632571886742024, 81.53999999999999, 'X[24] <= 0.5\\ngini = 0.219\\nsamples = 16\\nvalue = [14, 2]'),\n",
       " Text(11.28509755215621, 73.7742857142857, 'gini = 0.0\\nsamples = 9\\nvalue = [9, 0]'),\n",
       " Text(13.980046221327841, 73.7742857142857, 'X[2] <= 16.5\\ngini = 0.408\\nsamples = 7\\nvalue = [5, 2]'),\n",
       " Text(12.632571886742024, 66.00857142857143, 'gini = 0.0\\nsamples = 4\\nvalue = [4, 0]'),\n",
       " Text(15.327520555913656, 66.00857142857143, 'X[28] <= 0.5\\ngini = 0.444\\nsamples = 3\\nvalue = [1, 2]'),\n",
       " Text(13.980046221327841, 58.24285714285713, 'gini = 0.0\\nsamples = 2\\nvalue = [0, 2]'),\n",
       " Text(16.674994890499473, 58.24285714285713, 'gini = 0.0\\nsamples = 1\\nvalue = [1, 0]'),\n",
       " Text(16.674994890499473, 89.30571428571429, 'X[2] <= 5.5\\ngini = 0.227\\nsamples = 23\\nvalue = [20, 3]'),\n",
       " Text(15.327520555913656, 81.53999999999999, 'gini = 0.0\\nsamples = 1\\nvalue = [0, 1]'),\n",
       " Text(18.02246922508529, 81.53999999999999, 'X[3] <= 156.5\\ngini = 0.165\\nsamples = 22\\nvalue = [20, 2]'),\n",
       " Text(16.674994890499473, 73.7742857142857, 'gini = 0.0\\nsamples = 14\\nvalue = [14, 0]'),\n",
       " Text(19.369943559671103, 73.7742857142857, 'X[3] <= 171.5\\ngini = 0.375\\nsamples = 8\\nvalue = [6, 2]'),\n",
       " Text(18.02246922508529, 66.00857142857143, 'gini = 0.0\\nsamples = 2\\nvalue = [0, 2]'),\n",
       " Text(20.717417894256922, 66.00857142857143, 'gini = 0.0\\nsamples = 6\\nvalue = [6, 0]'),\n",
       " Text(20.717417894256922, 97.07142857142857, 'X[7] <= 0.5\\ngini = 0.346\\nsamples = 9\\nvalue = [7, 2]'),\n",
       " Text(19.369943559671103, 89.30571428571429, 'gini = 0.0\\nsamples = 6\\nvalue = [6, 0]'),\n",
       " Text(22.064892228842737, 89.30571428571429, 'X[1] <= 93.5\\ngini = 0.444\\nsamples = 3\\nvalue = [1, 2]'),\n",
       " Text(20.717417894256922, 81.53999999999999, 'gini = 0.0\\nsamples = 1\\nvalue = [1, 0]'),\n",
       " Text(23.412366563428552, 81.53999999999999, 'gini = 0.0\\nsamples = 2\\nvalue = [0, 2]'),\n",
       " Text(19.53837785149433, 104.83714285714285, 'gini = 0.0\\nsamples = 126\\nvalue = [126, 0]'),\n",
       " Text(32.844686905529265, 112.60285714285713, 'X[1] <= 8231.0\\ngini = 0.007\\nsamples = 544\\nvalue = [542, 2]'),\n",
       " Text(30.14973823635763, 104.83714285714285, 'X[3] <= 97.5\\ngini = 0.004\\nsamples = 523\\nvalue = [522, 1]'),\n",
       " Text(28.802263901771816, 97.07142857142857, 'X[2] <= 8.5\\ngini = 0.053\\nsamples = 37\\nvalue = [36, 1]'),\n",
       " Text(27.454789567186, 89.30571428571429, 'X[3] <= 96.5\\ngini = 0.245\\nsamples = 7\\nvalue = [6, 1]'),\n",
       " Text(26.107315232600186, 81.53999999999999, 'gini = 0.0\\nsamples = 6\\nvalue = [6, 0]'),\n",
       " Text(28.802263901771816, 81.53999999999999, 'gini = 0.0\\nsamples = 1\\nvalue = [0, 1]'),\n",
       " Text(30.14973823635763, 89.30571428571429, 'gini = 0.0\\nsamples = 30\\nvalue = [30, 0]'),\n",
       " Text(31.49721257094345, 97.07142857142857, 'gini = 0.0\\nsamples = 486\\nvalue = [486, 0]'),\n",
       " Text(35.539635574700895, 104.83714285714285, 'X[1] <= 8632.0\\ngini = 0.091\\nsamples = 21\\nvalue = [20, 1]'),\n",
       " Text(34.192161240115084, 97.07142857142857, 'gini = 0.0\\nsamples = 1\\nvalue = [0, 1]'),\n",
       " Text(36.887109909286714, 97.07142857142857, 'gini = 0.0\\nsamples = 20\\nvalue = [20, 0]'),\n",
       " Text(36.887109909286714, 120.36857142857143, 'X[3] <= 186.0\\ngini = 0.245\\nsamples = 7\\nvalue = [6, 1]'),\n",
       " Text(35.539635574700895, 112.60285714285713, 'gini = 0.0\\nsamples = 6\\nvalue = [6, 0]'),\n",
       " Text(38.234584243872526, 112.60285714285713, 'gini = 0.0\\nsamples = 1\\nvalue = [0, 1]'),\n",
       " Text(50.36185325514487, 135.89999999999998, 'X[5] <= 103.0\\ngini = 0.107\\nsamples = 177\\nvalue = [167, 10]'),\n",
       " Text(44.97195591680161, 128.1342857142857, 'X[5] <= 94.0\\ngini = 0.463\\nsamples = 22\\nvalue = [14, 8]'),\n",
       " Text(42.277007247629975, 120.36857142857143, 'X[15] <= 0.5\\ngini = 0.26\\nsamples = 13\\nvalue = [11, 2]'),\n",
       " Text(40.92953291304416, 112.60285714285713, 'X[14] <= 0.5\\ngini = 0.153\\nsamples = 12\\nvalue = [11, 1]'),\n",
       " Text(39.582058578458344, 104.83714285714285, 'gini = 0.0\\nsamples = 11\\nvalue = [11, 0]'),\n",
       " Text(42.277007247629975, 104.83714285714285, 'gini = 0.0\\nsamples = 1\\nvalue = [0, 1]'),\n",
       " Text(43.62448158221579, 112.60285714285713, 'gini = 0.0\\nsamples = 1\\nvalue = [0, 1]'),\n",
       " Text(47.66690458597324, 120.36857142857143, 'X[0] <= 46.0\\ngini = 0.444\\nsamples = 9\\nvalue = [3, 6]'),\n",
       " Text(46.31943025138742, 112.60285714285713, 'X[2] <= 27.0\\ngini = 0.375\\nsamples = 4\\nvalue = [3, 1]'),\n",
       " Text(44.97195591680161, 104.83714285714285, 'gini = 0.0\\nsamples = 3\\nvalue = [3, 0]'),\n",
       " Text(47.66690458597324, 104.83714285714285, 'gini = 0.0\\nsamples = 1\\nvalue = [0, 1]'),\n",
       " Text(49.014378920559054, 112.60285714285713, 'gini = 0.0\\nsamples = 5\\nvalue = [0, 5]'),\n",
       " Text(55.75175059348814, 128.1342857142857, 'X[12] <= 0.5\\ngini = 0.025\\nsamples = 155\\nvalue = [153, 2]'),\n",
       " Text(53.0568019243165, 120.36857142857143, 'X[36] <= 0.5\\ngini = 0.013\\nsamples = 152\\nvalue = [151, 1]'),\n",
       " Text(51.70932758973069, 112.60285714285713, 'gini = 0.0\\nsamples = 123\\nvalue = [123, 0]'),\n",
       " Text(54.40427625890232, 112.60285714285713, 'X[5] <= 202.5\\ngini = 0.067\\nsamples = 29\\nvalue = [28, 1]'),\n",
       " Text(53.0568019243165, 104.83714285714285, 'gini = 0.0\\nsamples = 27\\nvalue = [27, 0]'),\n",
       " Text(55.75175059348814, 104.83714285714285, 'X[20] <= 0.5\\ngini = 0.5\\nsamples = 2\\nvalue = [1, 1]'),\n",
       " Text(54.40427625890232, 97.07142857142857, 'gini = 0.0\\nsamples = 1\\nvalue = [1, 0]'),\n",
       " Text(57.09922492807395, 97.07142857142857, 'gini = 0.0\\nsamples = 1\\nvalue = [0, 1]'),\n",
       " Text(58.44669926265977, 120.36857142857143, 'X[2] <= 13.0\\ngini = 0.444\\nsamples = 3\\nvalue = [2, 1]'),\n",
       " Text(57.09922492807395, 112.60285714285713, 'gini = 0.0\\nsamples = 1\\nvalue = [0, 1]'),\n",
       " Text(59.79417359724558, 112.60285714285713, 'gini = 0.0\\nsamples = 2\\nvalue = [2, 0]'),\n",
       " Text(65.18407093558885, 143.66571428571427, 'X[2] <= 9.5\\ngini = 0.168\\nsamples = 65\\nvalue = [59, 6]'),\n",
       " Text(61.1416479318314, 135.89999999999998, 'X[1] <= 2141.0\\ngini = 0.035\\nsamples = 56\\nvalue = [55, 1]'),\n",
       " Text(59.79417359724558, 128.1342857142857, 'gini = 0.0\\nsamples = 52\\nvalue = [52, 0]'),\n",
       " Text(62.48912226641722, 128.1342857142857, 'X[15] <= 0.5\\ngini = 0.375\\nsamples = 4\\nvalue = [3, 1]'),\n",
       " Text(61.1416479318314, 120.36857142857143, 'gini = 0.0\\nsamples = 3\\nvalue = [3, 0]'),\n",
       " Text(63.83659660100303, 120.36857142857143, 'gini = 0.0\\nsamples = 1\\nvalue = [0, 1]'),\n",
       " Text(69.2264939393463, 135.89999999999998, 'X[21] <= 0.5\\ngini = 0.494\\nsamples = 9\\nvalue = [4, 5]'),\n",
       " Text(67.87901960476049, 128.1342857142857, 'X[5] <= 228.0\\ngini = 0.278\\nsamples = 6\\nvalue = [1, 5]'),\n",
       " Text(66.53154527017466, 120.36857142857143, 'gini = 0.0\\nsamples = 5\\nvalue = [0, 5]'),\n",
       " Text(69.2264939393463, 120.36857142857143, 'gini = 0.0\\nsamples = 1\\nvalue = [1, 0]'),\n",
       " Text(70.57396827393211, 128.1342857142857, 'gini = 0.0\\nsamples = 3\\nvalue = [3, 0]'),\n",
       " Text(53.12522835536969, 166.96285714285713, 'X[1] <= 2739.0\\ngini = 0.42\\nsamples = 10\\nvalue = [7, 3]'),\n",
       " Text(51.777754020783874, 159.19714285714286, 'gini = 0.0\\nsamples = 6\\nvalue = [6, 0]'),\n",
       " Text(54.472702689955504, 159.19714285714286, 'X[1] <= 15555.5\\ngini = 0.375\\nsamples = 4\\nvalue = [1, 3]'),\n",
       " Text(53.12522835536969, 151.43142857142857, 'gini = 0.0\\nsamples = 3\\nvalue = [0, 3]'),\n",
       " Text(55.82017702454132, 151.43142857142857, 'gini = 0.0\\nsamples = 1\\nvalue = [1, 0]'),\n",
       " Text(139.77813315554891, 174.72857142857143, 'X[27] <= 0.5\\ngini = 0.168\\nsamples = 668\\nvalue = [606, 62]'),\n",
       " Text(132.42891240350906, 166.96285714285713, 'X[33] <= 0.5\\ngini = 0.23\\nsamples = 459\\nvalue = [398, 61]'),\n",
       " Text(121.77289390318676, 159.19714285714286, 'X[2] <= 29.5\\ngini = 0.207\\nsamples = 443\\nvalue = [391, 52]'),\n",
       " Text(112.58812591381451, 151.43142857142857, 'X[38] <= 0.5\\ngini = 0.188\\nsamples = 428\\nvalue = [383, 45]'),\n",
       " Text(102.30343594258494, 143.66571428571427, 'X[0] <= 61.0\\ngini = 0.173\\nsamples = 419\\nvalue = [379, 40]'),\n",
       " Text(88.47142767305485, 135.89999999999998, 'X[5] <= 393.0\\ngini = 0.153\\nsamples = 406\\nvalue = [372, 34]'),\n",
       " Text(87.12395333846904, 128.1342857142857, 'X[2] <= 4.5\\ngini = 0.146\\nsamples = 404\\nvalue = [372, 32]'),\n",
       " Text(71.92144260851794, 120.36857142857143, 'X[30] <= 0.5\\ngini = 0.36\\nsamples = 34\\nvalue = [26, 8]'),\n",
       " Text(69.2264939393463, 112.60285714285713, 'X[0] <= 52.5\\ngini = 0.48\\nsamples = 15\\nvalue = [9, 6]'),\n",
       " Text(67.87901960476049, 104.83714285714285, 'X[1] <= 1134.5\\ngini = 0.375\\nsamples = 12\\nvalue = [9, 3]'),\n",
       " Text(66.53154527017466, 97.07142857142857, 'X[24] <= 0.5\\ngini = 0.5\\nsamples = 6\\nvalue = [3, 3]'),\n",
       " Text(65.18407093558885, 89.30571428571429, 'X[36] <= 0.5\\ngini = 0.375\\nsamples = 4\\nvalue = [3, 1]'),\n",
       " Text(63.83659660100303, 81.53999999999999, 'gini = 0.0\\nsamples = 3\\nvalue = [3, 0]'),\n",
       " Text(66.53154527017466, 81.53999999999999, 'gini = 0.0\\nsamples = 1\\nvalue = [0, 1]'),\n",
       " Text(67.87901960476049, 89.30571428571429, 'gini = 0.0\\nsamples = 2\\nvalue = [0, 2]'),\n",
       " Text(69.2264939393463, 97.07142857142857, 'gini = 0.0\\nsamples = 6\\nvalue = [6, 0]'),\n",
       " Text(70.57396827393211, 104.83714285714285, 'gini = 0.0\\nsamples = 3\\nvalue = [0, 3]'),\n",
       " Text(74.61639127768956, 112.60285714285713, 'X[1] <= 3102.0\\ngini = 0.188\\nsamples = 19\\nvalue = [17, 2]'),\n",
       " Text(73.26891694310375, 104.83714285714285, 'gini = 0.0\\nsamples = 16\\nvalue = [16, 0]'),\n",
       " Text(75.96386561227537, 104.83714285714285, 'X[3] <= 302.5\\ngini = 0.444\\nsamples = 3\\nvalue = [1, 2]'),\n",
       " Text(74.61639127768956, 97.07142857142857, 'gini = 0.0\\nsamples = 2\\nvalue = [0, 2]'),\n",
       " Text(77.3113399468612, 97.07142857142857, 'gini = 0.0\\nsamples = 1\\nvalue = [1, 0]'),\n",
       " Text(102.32646406842014, 120.36857142857143, 'X[30] <= 0.5\\ngini = 0.121\\nsamples = 370\\nvalue = [346, 24]'),\n",
       " Text(92.55990692848272, 112.60285714285713, 'X[3] <= 226.5\\ngini = 0.105\\nsamples = 359\\nvalue = [339, 20]'),\n",
       " Text(82.70123728520446, 104.83714285714285, 'X[0] <= 29.5\\ngini = 0.375\\nsamples = 16\\nvalue = [12, 4]'),\n",
       " Text(80.00628861603282, 97.07142857142857, 'X[3] <= 225.0\\ngini = 0.444\\nsamples = 3\\nvalue = [1, 2]'),\n",
       " Text(78.65881428144701, 89.30571428571429, 'gini = 0.0\\nsamples = 1\\nvalue = [1, 0]'),\n",
       " Text(81.35376295061864, 89.30571428571429, 'gini = 0.0\\nsamples = 2\\nvalue = [0, 2]'),\n",
       " Text(85.3961859543761, 97.07142857142857, 'X[2] <= 15.5\\ngini = 0.26\\nsamples = 13\\nvalue = [11, 2]'),\n",
       " Text(84.04871161979027, 89.30571428571429, 'X[2] <= 12.5\\ngini = 0.408\\nsamples = 7\\nvalue = [5, 2]'),\n",
       " Text(82.70123728520446, 81.53999999999999, 'gini = 0.0\\nsamples = 4\\nvalue = [4, 0]'),\n",
       " Text(85.3961859543761, 81.53999999999999, 'X[5] <= 273.0\\ngini = 0.444\\nsamples = 3\\nvalue = [1, 2]'),\n",
       " Text(84.04871161979027, 73.7742857142857, 'gini = 0.0\\nsamples = 2\\nvalue = [0, 2]'),\n",
       " Text(86.7436602889619, 73.7742857142857, 'gini = 0.0\\nsamples = 1\\nvalue = [1, 0]'),\n",
       " Text(86.7436602889619, 89.30571428571429, 'gini = 0.0\\nsamples = 6\\nvalue = [6, 0]'),\n",
       " Text(102.41857657176097, 104.83714285714285, 'X[6] <= 3.5\\ngini = 0.089\\nsamples = 343\\nvalue = [327, 16]'),\n",
       " Text(95.439080604336, 97.07142857142857, 'X[1] <= 419.5\\ngini = 0.072\\nsamples = 322\\nvalue = [310, 12]'),\n",
       " Text(89.43860895813354, 89.30571428571429, 'X[4] <= 6.5\\ngini = 0.013\\nsamples = 149\\nvalue = [148, 1]'),\n",
       " Text(88.09113462354772, 81.53999999999999, 'gini = 0.0\\nsamples = 140\\nvalue = [140, 0]'),\n",
       " Text(90.78608329271935, 81.53999999999999, 'X[15] <= 0.5\\ngini = 0.198\\nsamples = 9\\nvalue = [8, 1]'),\n",
       " Text(89.43860895813354, 73.7742857142857, 'gini = 0.0\\nsamples = 8\\nvalue = [8, 0]'),\n",
       " Text(92.13355762730517, 73.7742857142857, 'gini = 0.0\\nsamples = 1\\nvalue = [0, 1]'),\n",
       " Text(101.43955225053845, 89.30571428571429, 'X[1] <= 540.5\\ngini = 0.119\\nsamples = 173\\nvalue = [162, 11]'),\n",
       " Text(96.17598063106261, 81.53999999999999, 'X[18] <= 0.5\\ngini = 0.444\\nsamples = 6\\nvalue = [4, 2]'),\n",
       " Text(94.8285062964768, 73.7742857142857, 'X[3] <= 293.5\\ngini = 0.444\\nsamples = 3\\nvalue = [1, 2]'),\n",
       " Text(93.48103196189099, 66.00857142857143, 'gini = 0.0\\nsamples = 1\\nvalue = [1, 0]'),\n",
       " Text(96.17598063106261, 66.00857142857143, 'gini = 0.0\\nsamples = 2\\nvalue = [0, 2]'),\n",
       " Text(97.52345496564843, 73.7742857142857, 'gini = 0.0\\nsamples = 3\\nvalue = [3, 0]'),\n",
       " Text(106.70312387001431, 81.53999999999999, 'X[26] <= 0.5\\ngini = 0.102\\nsamples = 167\\nvalue = [158, 9]'),\n",
       " Text(102.74491801216847, 73.7742857142857, 'X[16] <= 0.5\\ngini = 0.086\\nsamples = 155\\nvalue = [148, 7]'),\n",
       " Text(98.87092930023425, 66.00857142857143, 'X[0] <= 59.5\\ngini = 0.076\\nsamples = 151\\nvalue = [145, 6]'),\n",
       " Text(95.16537488012325, 58.24285714285713, 'X[0] <= 27.5\\ngini = 0.066\\nsamples = 147\\nvalue = [142, 5]'),\n",
       " Text(91.79668904365872, 50.47714285714284, 'X[32] <= 0.5\\ngini = 0.32\\nsamples = 5\\nvalue = [4, 1]'),\n",
       " Text(90.4492147090729, 42.71142857142857, 'X[31] <= 0.5\\ngini = 0.5\\nsamples = 2\\nvalue = [1, 1]'),\n",
       " Text(89.10174037448708, 34.945714285714274, 'gini = 0.0\\nsamples = 1\\nvalue = [0, 1]'),\n",
       " Text(91.79668904365872, 34.945714285714274, 'gini = 0.0\\nsamples = 1\\nvalue = [1, 0]'),\n",
       " Text(93.14416337824453, 42.71142857142857, 'gini = 0.0\\nsamples = 3\\nvalue = [3, 0]'),\n",
       " Text(98.53406071658779, 50.47714285714284, 'X[2] <= 16.5\\ngini = 0.055\\nsamples = 142\\nvalue = [138, 4]'),\n",
       " Text(97.18658638200198, 42.71142857142857, 'X[36] <= 0.5\\ngini = 0.116\\nsamples = 65\\nvalue = [61, 4]'),\n",
       " Text(94.49163771283035, 34.945714285714274, 'X[4] <= 2.5\\ngini = 0.062\\nsamples = 62\\nvalue = [60, 2]'),\n",
       " Text(93.14416337824453, 27.17999999999998, 'gini = 0.0\\nsamples = 44\\nvalue = [44, 0]'),\n",
       " Text(95.83911204741617, 27.17999999999998, 'X[3] <= 313.5\\ngini = 0.198\\nsamples = 18\\nvalue = [16, 2]'),\n",
       " Text(94.49163771283035, 19.41428571428571, 'gini = 0.0\\nsamples = 12\\nvalue = [12, 0]'),\n",
       " Text(97.18658638200198, 19.41428571428571, 'X[4] <= 5.5\\ngini = 0.444\\nsamples = 6\\nvalue = [4, 2]'),\n",
       " Text(95.83911204741617, 11.648571428571415, 'X[1] <= 683.5\\ngini = 0.444\\nsamples = 3\\nvalue = [1, 2]'),\n",
       " Text(94.49163771283035, 3.8828571428571195, 'gini = 0.0\\nsamples = 1\\nvalue = [1, 0]'),\n",
       " Text(97.18658638200198, 3.8828571428571195, 'gini = 0.0\\nsamples = 2\\nvalue = [0, 2]'),\n",
       " Text(98.53406071658779, 11.648571428571415, 'gini = 0.0\\nsamples = 3\\nvalue = [3, 0]'),\n",
       " Text(99.88153505117361, 34.945714285714274, 'X[2] <= 8.0\\ngini = 0.444\\nsamples = 3\\nvalue = [1, 2]'),\n",
       " Text(98.53406071658779, 27.17999999999998, 'gini = 0.0\\nsamples = 1\\nvalue = [1, 0]'),\n",
       " Text(101.22900938575943, 27.17999999999998, 'gini = 0.0\\nsamples = 2\\nvalue = [0, 2]'),\n",
       " Text(99.88153505117361, 42.71142857142857, 'gini = 0.0\\nsamples = 77\\nvalue = [77, 0]'),\n",
       " Text(102.57648372034524, 58.24285714285713, 'X[2] <= 22.5\\ngini = 0.375\\nsamples = 4\\nvalue = [3, 1]'),\n",
       " Text(101.22900938575943, 50.47714285714284, 'gini = 0.0\\nsamples = 3\\nvalue = [3, 0]'),\n",
       " Text(103.92395805493106, 50.47714285714284, 'gini = 0.0\\nsamples = 1\\nvalue = [0, 1]'),\n",
       " Text(106.61890672410269, 66.00857142857143, 'X[0] <= 51.0\\ngini = 0.375\\nsamples = 4\\nvalue = [3, 1]'),\n",
       " Text(105.27143238951687, 58.24285714285713, 'gini = 0.0\\nsamples = 3\\nvalue = [3, 0]'),\n",
       " Text(107.96638105868851, 58.24285714285713, 'gini = 0.0\\nsamples = 1\\nvalue = [0, 1]'),\n",
       " Text(110.66132972786014, 73.7742857142857, 'X[10] <= 0.5\\ngini = 0.278\\nsamples = 12\\nvalue = [10, 2]'),\n",
       " Text(109.31385539327432, 66.00857142857143, 'gini = 0.0\\nsamples = 9\\nvalue = [9, 0]'),\n",
       " Text(112.00880406244596, 66.00857142857143, 'X[36] <= 0.5\\ngini = 0.444\\nsamples = 3\\nvalue = [1, 2]'),\n",
       " Text(110.66132972786014, 58.24285714285713, 'gini = 0.0\\nsamples = 2\\nvalue = [0, 2]'),\n",
       " Text(113.35627839703177, 58.24285714285713, 'gini = 0.0\\nsamples = 1\\nvalue = [1, 0]'),\n",
       " Text(109.39807253918593, 97.07142857142857, 'X[5] <= 103.0\\ngini = 0.308\\nsamples = 21\\nvalue = [17, 4]'),\n",
       " Text(108.05059820460012, 89.30571428571429, 'gini = 0.0\\nsamples = 2\\nvalue = [0, 2]'),\n",
       " Text(110.74554687377176, 89.30571428571429, 'X[4] <= 4.0\\ngini = 0.188\\nsamples = 19\\nvalue = [17, 2]'),\n",
       " Text(109.39807253918593, 81.53999999999999, 'gini = 0.0\\nsamples = 17\\nvalue = [17, 0]'),\n",
       " Text(112.09302120835757, 81.53999999999999, 'gini = 0.0\\nsamples = 2\\nvalue = [0, 2]'),\n",
       " Text(112.09302120835757, 112.60285714285713, 'X[2] <= 8.5\\ngini = 0.463\\nsamples = 11\\nvalue = [7, 4]'),\n",
       " Text(110.74554687377176, 104.83714285714285, 'gini = 0.0\\nsamples = 6\\nvalue = [6, 0]'),\n",
       " Text(113.44049554294338, 104.83714285714285, 'X[20] <= 0.5\\ngini = 0.32\\nsamples = 5\\nvalue = [1, 4]'),\n",
       " Text(112.09302120835757, 97.07142857142857, 'gini = 0.0\\nsamples = 4\\nvalue = [0, 4]'),\n",
       " Text(114.7879698775292, 97.07142857142857, 'gini = 0.0\\nsamples = 1\\nvalue = [1, 0]'),\n",
       " Text(89.81890200764067, 128.1342857142857, 'gini = 0.0\\nsamples = 2\\nvalue = [0, 2]'),\n",
       " Text(116.13544421211502, 135.89999999999998, 'X[0] <= 63.5\\ngini = 0.497\\nsamples = 13\\nvalue = [7, 6]'),\n",
       " Text(114.7879698775292, 128.1342857142857, 'gini = 0.0\\nsamples = 2\\nvalue = [0, 2]'),\n",
       " Text(117.48291854670083, 128.1342857142857, 'X[3] <= 347.0\\ngini = 0.463\\nsamples = 11\\nvalue = [7, 4]'),\n",
       " Text(116.13544421211502, 120.36857142857143, 'X[1] <= 2989.5\\ngini = 0.346\\nsamples = 9\\nvalue = [7, 2]'),\n",
       " Text(114.7879698775292, 112.60285714285713, 'gini = 0.0\\nsamples = 6\\nvalue = [6, 0]'),\n",
       " Text(117.48291854670083, 112.60285714285713, 'X[20] <= 0.5\\ngini = 0.444\\nsamples = 3\\nvalue = [1, 2]'),\n",
       " Text(116.13544421211502, 104.83714285714285, 'gini = 0.0\\nsamples = 2\\nvalue = [0, 2]'),\n",
       " Text(118.83039288128664, 104.83714285714285, 'gini = 0.0\\nsamples = 1\\nvalue = [1, 0]'),\n",
       " Text(118.83039288128664, 120.36857142857143, 'gini = 0.0\\nsamples = 2\\nvalue = [0, 2]'),\n",
       " Text(122.87281588504409, 143.66571428571427, 'X[5] <= 93.0\\ngini = 0.494\\nsamples = 9\\nvalue = [4, 5]'),\n",
       " Text(121.52534155045828, 135.89999999999998, 'X[26] <= 0.5\\ngini = 0.444\\nsamples = 6\\nvalue = [4, 2]'),\n",
       " Text(120.17786721587247, 128.1342857142857, 'gini = 0.0\\nsamples = 4\\nvalue = [4, 0]'),\n",
       " Text(122.87281588504409, 128.1342857142857, 'gini = 0.0\\nsamples = 2\\nvalue = [0, 2]'),\n",
       " Text(124.22029021962992, 135.89999999999998, 'gini = 0.0\\nsamples = 3\\nvalue = [0, 3]'),\n",
       " Text(130.957661892559, 151.43142857142857, 'X[4] <= 2.0\\ngini = 0.498\\nsamples = 15\\nvalue = [8, 7]'),\n",
       " Text(128.26271322338735, 143.66571428571427, 'X[1] <= 672.0\\ngini = 0.245\\nsamples = 7\\nvalue = [1, 6]'),\n",
       " Text(126.91523888880154, 135.89999999999998, 'gini = 0.0\\nsamples = 6\\nvalue = [0, 6]'),\n",
       " Text(129.61018755797318, 135.89999999999998, 'gini = 0.0\\nsamples = 1\\nvalue = [1, 0]'),\n",
       " Text(133.65261056173063, 143.66571428571427, 'X[3] <= 355.0\\ngini = 0.219\\nsamples = 8\\nvalue = [7, 1]'),\n",
       " Text(132.3051362271448, 135.89999999999998, 'gini = 0.0\\nsamples = 7\\nvalue = [7, 0]'),\n",
       " Text(135.00008489631645, 135.89999999999998, 'gini = 0.0\\nsamples = 1\\nvalue = [0, 1]'),\n",
       " Text(143.08493090383135, 159.19714285714286, 'X[2] <= 17.0\\ngini = 0.492\\nsamples = 16\\nvalue = [7, 9]'),\n",
       " Text(141.73745656924552, 151.43142857142857, 'X[3] <= 281.5\\ngini = 0.497\\nsamples = 13\\nvalue = [7, 6]'),\n",
       " Text(139.0425079000739, 143.66571428571427, 'X[12] <= 0.5\\ngini = 0.408\\nsamples = 7\\nvalue = [2, 5]'),\n",
       " Text(137.69503356548807, 135.89999999999998, 'X[2] <= 10.5\\ngini = 0.278\\nsamples = 6\\nvalue = [1, 5]'),\n",
       " Text(136.34755923090225, 128.1342857142857, 'gini = 0.0\\nsamples = 5\\nvalue = [0, 5]'),\n",
       " Text(139.0425079000739, 128.1342857142857, 'gini = 0.0\\nsamples = 1\\nvalue = [1, 0]'),\n",
       " Text(140.3899822346597, 135.89999999999998, 'gini = 0.0\\nsamples = 1\\nvalue = [1, 0]'),\n",
       " Text(144.43240523841715, 143.66571428571427, 'X[7] <= 0.5\\ngini = 0.278\\nsamples = 6\\nvalue = [5, 1]'),\n",
       " Text(143.08493090383135, 135.89999999999998, 'gini = 0.0\\nsamples = 5\\nvalue = [5, 0]'),\n",
       " Text(145.77987957300297, 135.89999999999998, 'gini = 0.0\\nsamples = 1\\nvalue = [0, 1]'),\n",
       " Text(144.43240523841715, 151.43142857142857, 'gini = 0.0\\nsamples = 3\\nvalue = [0, 3]'),\n",
       " Text(147.1273539075888, 166.96285714285713, 'X[36] <= 0.5\\ngini = 0.01\\nsamples = 209\\nvalue = [208, 1]'),\n",
       " Text(145.77987957300297, 159.19714285714286, 'gini = 0.0\\nsamples = 208\\nvalue = [208, 0]'),\n",
       " Text(148.4748282421746, 159.19714285714286, 'gini = 0.0\\nsamples = 1\\nvalue = [0, 1]'),\n",
       " Text(156.5596742496895, 182.4942857142857, 'X[3] <= 148.0\\ngini = 0.48\\nsamples = 30\\nvalue = [18, 12]'),\n",
       " Text(153.86472558051787, 174.72857142857143, 'X[13] <= 0.5\\ngini = 0.305\\nsamples = 16\\nvalue = [13, 3]'),\n",
       " Text(152.51725124593204, 166.96285714285713, 'X[4] <= 1.5\\ngini = 0.231\\nsamples = 15\\nvalue = [13, 2]'),\n",
       " Text(151.16977691134622, 159.19714285714286, 'X[2] <= 10.5\\ngini = 0.5\\nsamples = 4\\nvalue = [2, 2]'),\n",
       " Text(149.82230257676042, 151.43142857142857, 'gini = 0.0\\nsamples = 2\\nvalue = [0, 2]'),\n",
       " Text(152.51725124593204, 151.43142857142857, 'gini = 0.0\\nsamples = 2\\nvalue = [2, 0]'),\n",
       " Text(153.86472558051787, 159.19714285714286, 'gini = 0.0\\nsamples = 11\\nvalue = [11, 0]'),\n",
       " Text(155.21219991510367, 166.96285714285713, 'gini = 0.0\\nsamples = 1\\nvalue = [0, 1]'),\n",
       " Text(159.25462291886112, 174.72857142857143, 'X[5] <= 156.0\\ngini = 0.459\\nsamples = 14\\nvalue = [5, 9]'),\n",
       " Text(157.90714858427532, 166.96285714285713, 'X[0] <= 68.0\\ngini = 0.298\\nsamples = 11\\nvalue = [2, 9]'),\n",
       " Text(156.5596742496895, 159.19714285714286, 'gini = 0.0\\nsamples = 8\\nvalue = [0, 8]'),\n",
       " Text(159.25462291886112, 159.19714285714286, 'X[2] <= 10.0\\ngini = 0.444\\nsamples = 3\\nvalue = [2, 1]'),\n",
       " Text(157.90714858427532, 151.43142857142857, 'gini = 0.0\\nsamples = 1\\nvalue = [0, 1]'),\n",
       " Text(160.60209725344694, 151.43142857142857, 'gini = 0.0\\nsamples = 2\\nvalue = [2, 0]'),\n",
       " Text(160.60209725344694, 166.96285714285713, 'gini = 0.0\\nsamples = 3\\nvalue = [3, 0]'),\n",
       " Text(172.7293662647193, 190.26, 'X[3] <= 247.5\\ngini = 0.48\\nsamples = 45\\nvalue = [27, 18]'),\n",
       " Text(168.68694326096184, 182.4942857142857, 'X[2] <= 19.5\\ngini = 0.36\\nsamples = 34\\nvalue = [26, 8]'),\n",
       " Text(164.6445202572044, 174.72857142857143, 'X[11] <= 0.5\\ngini = 0.095\\nsamples = 20\\nvalue = [19, 1]'),\n",
       " Text(163.29704592261857, 166.96285714285713, 'gini = 0.0\\nsamples = 17\\nvalue = [17, 0]'),\n",
       " Text(165.99199459179022, 166.96285714285713, 'X[20] <= 0.5\\ngini = 0.444\\nsamples = 3\\nvalue = [2, 1]'),\n",
       " Text(164.6445202572044, 159.19714285714286, 'gini = 0.0\\nsamples = 2\\nvalue = [2, 0]'),\n",
       " Text(167.33946892637601, 159.19714285714286, 'gini = 0.0\\nsamples = 1\\nvalue = [0, 1]'),\n",
       " Text(172.7293662647193, 174.72857142857143, 'X[4] <= 1.5\\ngini = 0.5\\nsamples = 14\\nvalue = [7, 7]'),\n",
       " Text(171.38189193013346, 166.96285714285713, 'X[8] <= 0.5\\ngini = 0.346\\nsamples = 9\\nvalue = [2, 7]'),\n",
       " Text(170.03441759554767, 159.19714285714286, 'X[3] <= 86.0\\ngini = 0.219\\nsamples = 8\\nvalue = [1, 7]'),\n",
       " Text(168.68694326096184, 151.43142857142857, 'gini = 0.0\\nsamples = 1\\nvalue = [1, 0]'),\n",
       " Text(171.38189193013346, 151.43142857142857, 'gini = 0.0\\nsamples = 7\\nvalue = [0, 7]'),\n",
       " Text(172.7293662647193, 159.19714285714286, 'gini = 0.0\\nsamples = 1\\nvalue = [1, 0]'),\n",
       " Text(174.07684059930511, 166.96285714285713, 'gini = 0.0\\nsamples = 5\\nvalue = [5, 0]'),\n",
       " Text(176.77178926847674, 182.4942857142857, 'X[1] <= 3684.5\\ngini = 0.165\\nsamples = 11\\nvalue = [1, 10]'),\n",
       " Text(175.4243149338909, 174.72857142857143, 'gini = 0.0\\nsamples = 9\\nvalue = [0, 9]'),\n",
       " Text(178.11926360306256, 174.72857142857143, 'X[11] <= 0.5\\ngini = 0.5\\nsamples = 2\\nvalue = [1, 1]'),\n",
       " Text(176.77178926847674, 166.96285714285713, 'gini = 0.0\\nsamples = 1\\nvalue = [1, 0]'),\n",
       " Text(179.46673793764836, 166.96285714285713, 'gini = 0.0\\nsamples = 1\\nvalue = [0, 1]'),\n",
       " Text(190.58340119798135, 198.0257142857143, 'X[3] <= 146.5\\ngini = 0.459\\nsamples = 73\\nvalue = [26, 47]'),\n",
       " Text(183.5091609414058, 190.26, 'X[30] <= 0.5\\ngini = 0.245\\nsamples = 14\\nvalue = [12, 2]'),\n",
       " Text(182.16168660682, 182.4942857142857, 'X[31] <= 0.5\\ngini = 0.142\\nsamples = 13\\nvalue = [12, 1]'),\n",
       " Text(180.8142122722342, 174.72857142857143, 'gini = 0.0\\nsamples = 11\\nvalue = [11, 0]'),\n",
       " Text(183.5091609414058, 174.72857142857143, 'X[20] <= 0.5\\ngini = 0.5\\nsamples = 2\\nvalue = [1, 1]'),\n",
       " Text(182.16168660682, 166.96285714285713, 'gini = 0.0\\nsamples = 1\\nvalue = [0, 1]'),\n",
       " Text(184.85663527599164, 166.96285714285713, 'gini = 0.0\\nsamples = 1\\nvalue = [1, 0]'),\n",
       " Text(184.85663527599164, 182.4942857142857, 'gini = 0.0\\nsamples = 1\\nvalue = [0, 1]'),\n",
       " Text(197.65764145455688, 190.26, 'X[35] <= 0.5\\ngini = 0.362\\nsamples = 59\\nvalue = [14, 45]'),\n",
       " Text(194.28895561809233, 182.4942857142857, 'X[3] <= 363.0\\ngini = 0.291\\nsamples = 51\\nvalue = [9, 42]'),\n",
       " Text(192.94148128350653, 174.72857142857143, 'X[3] <= 210.5\\ngini = 0.245\\nsamples = 49\\nvalue = [7, 42]'),\n",
       " Text(187.55158394516326, 166.96285714285713, 'X[5] <= 102.0\\ngini = 0.444\\nsamples = 15\\nvalue = [5, 10]'),\n",
       " Text(184.85663527599164, 159.19714285714286, 'X[9] <= 0.5\\ngini = 0.198\\nsamples = 9\\nvalue = [1, 8]'),\n",
       " Text(183.5091609414058, 151.43142857142857, 'gini = 0.0\\nsamples = 8\\nvalue = [0, 8]'),\n",
       " Text(186.20410961057746, 151.43142857142857, 'gini = 0.0\\nsamples = 1\\nvalue = [1, 0]'),\n",
       " Text(190.2465326143349, 159.19714285714286, 'X[1] <= 2699.5\\ngini = 0.444\\nsamples = 6\\nvalue = [4, 2]'),\n",
       " Text(188.89905827974908, 151.43142857142857, 'gini = 0.0\\nsamples = 4\\nvalue = [4, 0]'),\n",
       " Text(191.5940069489207, 151.43142857142857, 'gini = 0.0\\nsamples = 2\\nvalue = [0, 2]'),\n",
       " Text(198.33137862184978, 166.96285714285713, 'X[4] <= 4.5\\ngini = 0.111\\nsamples = 34\\nvalue = [2, 32]'),\n",
       " Text(195.63642995267816, 159.19714285714286, 'X[28] <= 0.5\\ngini = 0.061\\nsamples = 32\\nvalue = [1, 31]'),\n",
       " Text(194.28895561809233, 151.43142857142857, 'gini = 0.0\\nsamples = 27\\nvalue = [0, 27]'),\n",
       " Text(196.98390428726398, 151.43142857142857, 'X[2] <= 11.5\\ngini = 0.32\\nsamples = 5\\nvalue = [1, 4]'),\n",
       " Text(195.63642995267816, 143.66571428571427, 'gini = 0.0\\nsamples = 4\\nvalue = [0, 4]'),\n",
       " Text(198.33137862184978, 143.66571428571427, 'gini = 0.0\\nsamples = 1\\nvalue = [1, 0]'),\n",
       " Text(201.02632729102143, 159.19714285714286, 'X[37] <= 0.5\\ngini = 0.5\\nsamples = 2\\nvalue = [1, 1]'),\n",
       " Text(199.6788529564356, 151.43142857142857, 'gini = 0.0\\nsamples = 1\\nvalue = [0, 1]'),\n",
       " Text(202.37380162560723, 151.43142857142857, 'gini = 0.0\\nsamples = 1\\nvalue = [1, 0]'),\n",
       " Text(195.63642995267816, 174.72857142857143, 'gini = 0.0\\nsamples = 2\\nvalue = [2, 0]'),\n",
       " Text(201.02632729102143, 182.4942857142857, 'X[6] <= 4.0\\ngini = 0.469\\nsamples = 8\\nvalue = [5, 3]'),\n",
       " Text(199.6788529564356, 174.72857142857143, 'gini = 0.0\\nsamples = 4\\nvalue = [4, 0]'),\n",
       " Text(202.37380162560723, 174.72857142857143, 'X[2] <= 24.0\\ngini = 0.375\\nsamples = 4\\nvalue = [1, 3]'),\n",
       " Text(201.02632729102143, 166.96285714285713, 'gini = 0.0\\nsamples = 3\\nvalue = [0, 3]'),\n",
       " Text(203.72127596019305, 166.96285714285713, 'gini = 0.0\\nsamples = 1\\nvalue = [1, 0]'),\n",
       " Text(287.4091450724763, 205.79142857142858, 'X[3] <= 652.5\\ngini = 0.442\\nsamples = 670\\nvalue = [449, 221]'),\n",
       " Text(267.388862566227, 198.0257142857143, 'X[40] <= 0.5\\ngini = 0.365\\nsamples = 420\\nvalue = [319, 101]'),\n",
       " Text(260.6140701888157, 190.26, 'X[37] <= 0.5\\ngini = 0.341\\nsamples = 403\\nvalue = [315, 88]'),\n",
       " Text(253.8018571069222, 182.4942857142857, 'X[5] <= 372.5\\ngini = 0.326\\nsamples = 395\\nvalue = [314, 81]'),\n",
       " Text(244.21985394689264, 174.72857142857143, 'X[0] <= 60.5\\ngini = 0.317\\nsamples = 390\\nvalue = [313, 77]'),\n",
       " Text(229.09827063059097, 166.96285714285713, 'X[2] <= 1.5\\ngini = 0.303\\nsamples = 376\\nvalue = [306, 70]'),\n",
       " Text(227.75079629600515, 159.19714285714286, 'gini = 0.0\\nsamples = 2\\nvalue = [0, 2]'),\n",
       " Text(230.44574496517677, 159.19714285714286, 'X[21] <= 0.5\\ngini = 0.298\\nsamples = 374\\nvalue = [306, 68]'),\n",
       " Text(213.0035845111387, 151.43142857142857, 'X[28] <= 0.5\\ngini = 0.248\\nsamples = 269\\nvalue = [230, 39]'),\n",
       " Text(201.02632729102143, 143.66571428571427, 'X[1] <= -189.0\\ngini = 0.207\\nsamples = 247\\nvalue = [218, 29]'),\n",
       " Text(191.50452623138963, 135.89999999999998, 'X[4] <= 1.5\\ngini = 0.469\\nsamples = 16\\nvalue = [10, 6]'),\n",
       " Text(190.1570518968038, 128.1342857142857, 'X[2] <= 13.5\\ngini = 0.444\\nsamples = 9\\nvalue = [3, 6]'),\n",
       " Text(188.80957756221798, 120.36857142857143, 'gini = 0.0\\nsamples = 2\\nvalue = [2, 0]'),\n",
       " Text(191.50452623138963, 120.36857142857143, 'X[1] <= -693.0\\ngini = 0.245\\nsamples = 7\\nvalue = [1, 6]'),\n",
       " Text(190.1570518968038, 112.60285714285713, 'gini = 0.0\\nsamples = 1\\nvalue = [1, 0]'),\n",
       " Text(192.85200056597543, 112.60285714285713, 'gini = 0.0\\nsamples = 6\\nvalue = [0, 6]'),\n",
       " Text(192.85200056597543, 128.1342857142857, 'gini = 0.0\\nsamples = 7\\nvalue = [7, 0]'),\n",
       " Text(210.54812835065323, 135.89999999999998, 'X[3] <= 388.5\\ngini = 0.179\\nsamples = 231\\nvalue = [208, 23]'),\n",
       " Text(209.2006540160674, 128.1342857142857, 'gini = 0.0\\nsamples = 1\\nvalue = [0, 1]'),\n",
       " Text(211.89560268523906, 128.1342857142857, 'X[8] <= 0.5\\ngini = 0.173\\nsamples = 230\\nvalue = [208, 22]'),\n",
       " Text(204.20026097756536, 120.36857142857143, 'X[5] <= 353.5\\ngini = 0.151\\nsamples = 219\\nvalue = [201, 18]'),\n",
       " Text(195.54694923514708, 112.60285714285713, 'X[0] <= 27.5\\ngini = 0.139\\nsamples = 213\\nvalue = [197, 16]'),\n",
       " Text(186.2409546119138, 104.83714285714285, 'X[2] <= 27.0\\ngini = 0.332\\nsamples = 19\\nvalue = [15, 4]'),\n",
       " Text(183.54600594274214, 97.07142857142857, 'X[25] <= 0.5\\ngini = 0.219\\nsamples = 16\\nvalue = [14, 2]'),\n",
       " Text(182.19853160815634, 89.30571428571429, 'X[3] <= 405.0\\ngini = 0.124\\nsamples = 15\\nvalue = [14, 1]'),\n",
       " Text(180.85105727357052, 81.53999999999999, 'X[33] <= 0.5\\ngini = 0.5\\nsamples = 2\\nvalue = [1, 1]'),\n",
       " Text(179.5035829389847, 73.7742857142857, 'gini = 0.0\\nsamples = 1\\nvalue = [1, 0]'),\n",
       " Text(182.19853160815634, 73.7742857142857, 'gini = 0.0\\nsamples = 1\\nvalue = [0, 1]'),\n",
       " Text(183.54600594274214, 81.53999999999999, 'gini = 0.0\\nsamples = 13\\nvalue = [13, 0]'),\n",
       " Text(184.89348027732797, 89.30571428571429, 'gini = 0.0\\nsamples = 1\\nvalue = [0, 1]'),\n",
       " Text(188.93590328108542, 97.07142857142857, 'X[7] <= 0.5\\ngini = 0.444\\nsamples = 3\\nvalue = [1, 2]'),\n",
       " Text(187.5884289464996, 89.30571428571429, 'gini = 0.0\\nsamples = 2\\nvalue = [0, 2]'),\n",
       " Text(190.28337761567124, 89.30571428571429, 'gini = 0.0\\nsamples = 1\\nvalue = [1, 0]'),\n",
       " Text(204.85294385838037, 104.83714285714285, 'X[6] <= 6.5\\ngini = 0.116\\nsamples = 194\\nvalue = [182, 12]'),\n",
       " Text(199.54726366594872, 97.07142857142857, 'X[1] <= 1756.5\\ngini = 0.108\\nsamples = 192\\nvalue = [181, 11]'),\n",
       " Text(192.97832628484286, 89.30571428571429, 'X[23] <= 0.5\\ngini = 0.064\\nsamples = 150\\nvalue = [145, 5]'),\n",
       " Text(189.27277186473188, 81.53999999999999, 'X[2] <= 5.5\\ngini = 0.053\\nsamples = 147\\nvalue = [143, 4]'),\n",
       " Text(185.90408602826733, 73.7742857142857, 'X[0] <= 51.5\\ngini = 0.26\\nsamples = 13\\nvalue = [11, 2]'),\n",
       " Text(184.5566116936815, 66.00857142857143, 'gini = 0.0\\nsamples = 11\\nvalue = [11, 0]'),\n",
       " Text(187.25156036285316, 66.00857142857143, 'gini = 0.0\\nsamples = 2\\nvalue = [0, 2]'),\n",
       " Text(192.6414577011964, 73.7742857142857, 'X[1] <= -10.0\\ngini = 0.029\\nsamples = 134\\nvalue = [132, 2]'),\n",
       " Text(189.94650903202478, 66.00857142857143, 'X[32] <= 0.5\\ngini = 0.375\\nsamples = 4\\nvalue = [3, 1]'),\n",
       " Text(188.59903469743895, 58.24285714285713, 'gini = 0.0\\nsamples = 3\\nvalue = [3, 0]'),\n",
       " Text(191.2939833666106, 58.24285714285713, 'gini = 0.0\\nsamples = 1\\nvalue = [0, 1]'),\n",
       " Text(195.33640637036802, 66.00857142857143, 'X[1] <= 809.5\\ngini = 0.015\\nsamples = 130\\nvalue = [129, 1]'),\n",
       " Text(193.98893203578223, 58.24285714285713, 'gini = 0.0\\nsamples = 113\\nvalue = [113, 0]'),\n",
       " Text(196.68388070495385, 58.24285714285713, 'X[1] <= 818.5\\ngini = 0.111\\nsamples = 17\\nvalue = [16, 1]'),\n",
       " Text(195.33640637036802, 50.47714285714284, 'gini = 0.0\\nsamples = 1\\nvalue = [0, 1]'),\n",
       " Text(198.03135503953968, 50.47714285714284, 'gini = 0.0\\nsamples = 16\\nvalue = [16, 0]'),\n",
       " Text(196.68388070495385, 81.53999999999999, 'X[0] <= 37.5\\ngini = 0.444\\nsamples = 3\\nvalue = [2, 1]'),\n",
       " Text(195.33640637036802, 73.7742857142857, 'gini = 0.0\\nsamples = 1\\nvalue = [0, 1]'),\n",
       " Text(198.03135503953968, 73.7742857142857, 'gini = 0.0\\nsamples = 2\\nvalue = [2, 0]'),\n",
       " Text(206.11620104705457, 89.30571428571429, 'X[1] <= 2099.0\\ngini = 0.245\\nsamples = 42\\nvalue = [36, 6]'),\n",
       " Text(203.42125237788292, 81.53999999999999, 'X[0] <= 45.0\\ngini = 0.494\\nsamples = 9\\nvalue = [5, 4]'),\n",
       " Text(202.07377804329712, 73.7742857142857, 'X[30] <= 0.5\\ngini = 0.408\\nsamples = 7\\nvalue = [5, 2]'),\n",
       " Text(200.7263037087113, 66.00857142857143, 'X[3] <= 609.0\\ngini = 0.278\\nsamples = 6\\nvalue = [5, 1]'),\n",
       " Text(199.37882937412547, 58.24285714285713, 'gini = 0.0\\nsamples = 5\\nvalue = [5, 0]'),\n",
       " Text(202.07377804329712, 58.24285714285713, 'gini = 0.0\\nsamples = 1\\nvalue = [0, 1]'),\n",
       " Text(203.42125237788292, 66.00857142857143, 'gini = 0.0\\nsamples = 1\\nvalue = [0, 1]'),\n",
       " Text(204.76872671246875, 73.7742857142857, 'gini = 0.0\\nsamples = 2\\nvalue = [0, 2]'),\n",
       " Text(208.8111497162262, 81.53999999999999, 'X[2] <= 2.5\\ngini = 0.114\\nsamples = 33\\nvalue = [31, 2]'),\n",
       " Text(207.46367538164037, 73.7742857142857, 'gini = 0.0\\nsamples = 1\\nvalue = [0, 1]'),\n",
       " Text(210.15862405081202, 73.7742857142857, 'X[2] <= 19.5\\ngini = 0.061\\nsamples = 32\\nvalue = [31, 1]'),\n",
       " Text(208.8111497162262, 66.00857142857143, 'gini = 0.0\\nsamples = 24\\nvalue = [24, 0]'),\n",
       " Text(211.50609838539782, 66.00857142857143, 'X[2] <= 20.5\\ngini = 0.219\\nsamples = 8\\nvalue = [7, 1]'),\n",
       " Text(210.15862405081202, 58.24285714285713, 'gini = 0.0\\nsamples = 1\\nvalue = [0, 1]'),\n",
       " Text(212.85357271998365, 58.24285714285713, 'gini = 0.0\\nsamples = 7\\nvalue = [7, 0]'),\n",
       " Text(210.15862405081202, 97.07142857142857, 'X[18] <= 0.5\\ngini = 0.5\\nsamples = 2\\nvalue = [1, 1]'),\n",
       " Text(208.8111497162262, 89.30571428571429, 'gini = 0.0\\nsamples = 1\\nvalue = [0, 1]'),\n",
       " Text(211.50609838539782, 89.30571428571429, 'gini = 0.0\\nsamples = 1\\nvalue = [1, 0]'),\n",
       " Text(212.85357271998365, 112.60285714285713, 'X[1] <= 546.5\\ngini = 0.444\\nsamples = 6\\nvalue = [4, 2]'),\n",
       " Text(211.50609838539782, 104.83714285714285, 'gini = 0.0\\nsamples = 3\\nvalue = [3, 0]'),\n",
       " Text(214.20104705456947, 104.83714285714285, 'X[3] <= 538.5\\ngini = 0.444\\nsamples = 3\\nvalue = [1, 2]'),\n",
       " Text(212.85357271998365, 97.07142857142857, 'gini = 0.0\\nsamples = 2\\nvalue = [0, 2]'),\n",
       " Text(215.54852138915527, 97.07142857142857, 'gini = 0.0\\nsamples = 1\\nvalue = [1, 0]'),\n",
       " Text(219.59094439291272, 120.36857142857143, 'X[20] <= 0.5\\ngini = 0.463\\nsamples = 11\\nvalue = [7, 4]'),\n",
       " Text(218.24347005832692, 112.60285714285713, 'gini = 0.0\\nsamples = 2\\nvalue = [0, 2]'),\n",
       " Text(220.93841872749854, 112.60285714285713, 'X[1] <= 2409.0\\ngini = 0.346\\nsamples = 9\\nvalue = [7, 2]'),\n",
       " Text(219.59094439291272, 104.83714285714285, 'X[0] <= 42.0\\ngini = 0.219\\nsamples = 8\\nvalue = [7, 1]'),\n",
       " Text(218.24347005832692, 97.07142857142857, 'gini = 0.0\\nsamples = 6\\nvalue = [6, 0]'),\n",
       " Text(220.93841872749854, 97.07142857142857, 'X[4] <= 2.0\\ngini = 0.5\\nsamples = 2\\nvalue = [1, 1]'),\n",
       " Text(219.59094439291272, 89.30571428571429, 'gini = 0.0\\nsamples = 1\\nvalue = [1, 0]'),\n",
       " Text(222.28589306208437, 89.30571428571429, 'gini = 0.0\\nsamples = 1\\nvalue = [0, 1]'),\n",
       " Text(222.28589306208437, 104.83714285714285, 'gini = 0.0\\nsamples = 1\\nvalue = [0, 1]'),\n",
       " Text(224.980841731256, 143.66571428571427, 'X[18] <= 0.5\\ngini = 0.496\\nsamples = 22\\nvalue = [12, 10]'),\n",
       " Text(223.63336739667017, 135.89999999999998, 'gini = 0.0\\nsamples = 4\\nvalue = [0, 4]'),\n",
       " Text(226.32831606584182, 135.89999999999998, 'X[1] <= 21.5\\ngini = 0.444\\nsamples = 18\\nvalue = [12, 6]'),\n",
       " Text(224.980841731256, 128.1342857142857, 'gini = 0.0\\nsamples = 5\\nvalue = [5, 0]'),\n",
       " Text(227.67579040042762, 128.1342857142857, 'X[2] <= 13.5\\ngini = 0.497\\nsamples = 13\\nvalue = [7, 6]'),\n",
       " Text(224.980841731256, 120.36857142857143, 'X[7] <= 0.5\\ngini = 0.278\\nsamples = 6\\nvalue = [5, 1]'),\n",
       " Text(223.63336739667017, 112.60285714285713, 'gini = 0.0\\nsamples = 5\\nvalue = [5, 0]'),\n",
       " Text(226.32831606584182, 112.60285714285713, 'gini = 0.0\\nsamples = 1\\nvalue = [0, 1]'),\n",
       " Text(230.37073906959927, 120.36857142857143, 'X[11] <= 0.5\\ngini = 0.408\\nsamples = 7\\nvalue = [2, 5]'),\n",
       " Text(229.02326473501344, 112.60285714285713, 'X[13] <= 0.5\\ngini = 0.278\\nsamples = 6\\nvalue = [1, 5]'),\n",
       " Text(227.67579040042762, 104.83714285714285, 'gini = 0.0\\nsamples = 5\\nvalue = [0, 5]'),\n",
       " Text(230.37073906959927, 104.83714285714285, 'gini = 0.0\\nsamples = 1\\nvalue = [1, 0]'),\n",
       " Text(231.71821340418506, 112.60285714285713, 'gini = 0.0\\nsamples = 1\\nvalue = [1, 0]'),\n",
       " Text(247.88790541921486, 151.43142857142857, 'X[33] <= 0.5\\ngini = 0.4\\nsamples = 105\\nvalue = [76, 29]'),\n",
       " Text(243.1717452481645, 143.66571428571427, 'X[11] <= 0.5\\ngini = 0.344\\nsamples = 95\\nvalue = [74, 21]'),\n",
       " Text(240.47679657899286, 135.89999999999998, 'X[1] <= -764.0\\ngini = 0.328\\nsamples = 92\\nvalue = [73, 19]'),\n",
       " Text(239.12932224440706, 128.1342857142857, 'gini = 0.0\\nsamples = 1\\nvalue = [0, 1]'),\n",
       " Text(241.8242709135787, 128.1342857142857, 'X[0] <= 45.5\\ngini = 0.317\\nsamples = 91\\nvalue = [73, 18]'),\n",
       " Text(240.47679657899286, 120.36857142857143, 'X[4] <= 2.5\\ngini = 0.361\\nsamples = 76\\nvalue = [58, 18]'),\n",
       " Text(235.7606364079425, 112.60285714285713, 'X[2] <= 29.5\\ngini = 0.303\\nsamples = 59\\nvalue = [48, 11]'),\n",
       " Text(233.0656877387709, 104.83714285714285, 'X[23] <= 0.5\\ngini = 0.27\\nsamples = 56\\nvalue = [47, 9]'),\n",
       " Text(231.71821340418506, 97.07142857142857, 'X[1] <= 639.0\\ngini = 0.249\\nsamples = 55\\nvalue = [47, 8]'),\n",
       " Text(227.00205323313472, 89.30571428571429, 'X[8] <= 0.5\\ngini = 0.071\\nsamples = 27\\nvalue = [26, 1]'),\n",
       " Text(225.6545788985489, 81.53999999999999, 'gini = 0.0\\nsamples = 23\\nvalue = [23, 0]'),\n",
       " Text(228.34952756772054, 81.53999999999999, 'X[0] <= 40.0\\ngini = 0.375\\nsamples = 4\\nvalue = [3, 1]'),\n",
       " Text(227.00205323313472, 73.7742857142857, 'gini = 0.0\\nsamples = 1\\nvalue = [0, 1]'),\n",
       " Text(229.69700190230634, 73.7742857142857, 'gini = 0.0\\nsamples = 3\\nvalue = [3, 0]'),\n",
       " Text(236.4343735752354, 89.30571428571429, 'X[2] <= 20.5\\ngini = 0.375\\nsamples = 28\\nvalue = [21, 7]'),\n",
       " Text(233.7394249060638, 81.53999999999999, 'X[2] <= 13.5\\ngini = 0.32\\nsamples = 25\\nvalue = [20, 5]'),\n",
       " Text(232.391950571478, 73.7742857142857, 'X[2] <= 11.5\\ngini = 0.459\\nsamples = 14\\nvalue = [9, 5]'),\n",
       " Text(229.69700190230634, 66.00857142857143, 'X[1] <= 723.5\\ngini = 0.32\\nsamples = 10\\nvalue = [8, 2]'),\n",
       " Text(228.34952756772054, 58.24285714285713, 'gini = 0.0\\nsamples = 1\\nvalue = [0, 1]'),\n",
       " Text(231.04447623689217, 58.24285714285713, 'X[0] <= 40.5\\ngini = 0.198\\nsamples = 9\\nvalue = [8, 1]'),\n",
       " Text(229.69700190230634, 50.47714285714284, 'gini = 0.0\\nsamples = 7\\nvalue = [7, 0]'),\n",
       " Text(232.391950571478, 50.47714285714284, 'X[1] <= 1038.5\\ngini = 0.5\\nsamples = 2\\nvalue = [1, 1]'),\n",
       " Text(231.04447623689217, 42.71142857142857, 'gini = 0.0\\nsamples = 1\\nvalue = [1, 0]'),\n",
       " Text(233.7394249060638, 42.71142857142857, 'gini = 0.0\\nsamples = 1\\nvalue = [0, 1]'),\n",
       " Text(235.08689924064961, 66.00857142857143, 'X[1] <= 4743.5\\ngini = 0.375\\nsamples = 4\\nvalue = [1, 3]'),\n",
       " Text(233.7394249060638, 58.24285714285713, 'gini = 0.0\\nsamples = 3\\nvalue = [0, 3]'),\n",
       " Text(236.4343735752354, 58.24285714285713, 'gini = 0.0\\nsamples = 1\\nvalue = [1, 0]'),\n",
       " Text(235.08689924064961, 73.7742857142857, 'gini = 0.0\\nsamples = 11\\nvalue = [11, 0]'),\n",
       " Text(239.12932224440706, 81.53999999999999, 'X[27] <= 0.5\\ngini = 0.444\\nsamples = 3\\nvalue = [1, 2]'),\n",
       " Text(237.78184790982124, 73.7742857142857, 'gini = 0.0\\nsamples = 2\\nvalue = [0, 2]'),\n",
       " Text(240.47679657899286, 73.7742857142857, 'gini = 0.0\\nsamples = 1\\nvalue = [1, 0]'),\n",
       " Text(234.41316207335672, 97.07142857142857, 'gini = 0.0\\nsamples = 1\\nvalue = [0, 1]'),\n",
       " Text(238.45558507711414, 104.83714285714285, 'X[0] <= 30.0\\ngini = 0.444\\nsamples = 3\\nvalue = [1, 2]'),\n",
       " Text(237.10811074252834, 97.07142857142857, 'gini = 0.0\\nsamples = 1\\nvalue = [1, 0]'),\n",
       " Text(239.80305941169996, 97.07142857142857, 'gini = 0.0\\nsamples = 2\\nvalue = [0, 2]'),\n",
       " Text(245.19295675004324, 112.60285714285713, 'X[3] <= 564.0\\ngini = 0.484\\nsamples = 17\\nvalue = [10, 7]'),\n",
       " Text(243.8454824154574, 104.83714285714285, 'X[30] <= 0.5\\ngini = 0.408\\nsamples = 14\\nvalue = [10, 4]'),\n",
       " Text(242.49800808087159, 97.07142857142857, 'X[36] <= 0.5\\ngini = 0.165\\nsamples = 11\\nvalue = [10, 1]'),\n",
       " Text(241.1505337462858, 89.30571428571429, 'gini = 0.0\\nsamples = 9\\nvalue = [9, 0]'),\n",
       " Text(243.8454824154574, 89.30571428571429, 'X[2] <= 18.0\\ngini = 0.5\\nsamples = 2\\nvalue = [1, 1]'),\n",
       " Text(242.49800808087159, 81.53999999999999, 'gini = 0.0\\nsamples = 1\\nvalue = [0, 1]'),\n",
       " Text(245.19295675004324, 81.53999999999999, 'gini = 0.0\\nsamples = 1\\nvalue = [1, 0]'),\n",
       " Text(245.19295675004324, 97.07142857142857, 'gini = 0.0\\nsamples = 3\\nvalue = [0, 3]'),\n",
       " Text(246.54043108462903, 104.83714285714285, 'gini = 0.0\\nsamples = 3\\nvalue = [0, 3]'),\n",
       " Text(243.1717452481645, 120.36857142857143, 'gini = 0.0\\nsamples = 15\\nvalue = [15, 0]'),\n",
       " Text(245.86669391733614, 135.89999999999998, 'X[1] <= 132.0\\ngini = 0.444\\nsamples = 3\\nvalue = [1, 2]'),\n",
       " Text(244.5192195827503, 128.1342857142857, 'gini = 0.0\\nsamples = 2\\nvalue = [0, 2]'),\n",
       " Text(247.21416825192196, 128.1342857142857, 'gini = 0.0\\nsamples = 1\\nvalue = [1, 0]'),\n",
       " Text(252.6040655902652, 143.66571428571427, 'X[9] <= 0.5\\ngini = 0.32\\nsamples = 10\\nvalue = [2, 8]'),\n",
       " Text(251.2565912556794, 135.89999999999998, 'X[4] <= 15.5\\ngini = 0.198\\nsamples = 9\\nvalue = [1, 8]'),\n",
       " Text(249.90911692109358, 128.1342857142857, 'gini = 0.0\\nsamples = 8\\nvalue = [0, 8]'),\n",
       " Text(252.6040655902652, 128.1342857142857, 'gini = 0.0\\nsamples = 1\\nvalue = [1, 0]'),\n",
       " Text(253.95153992485103, 135.89999999999998, 'gini = 0.0\\nsamples = 1\\nvalue = [1, 0]'),\n",
       " Text(259.3414372631943, 166.96285714285713, 'X[3] <= 507.5\\ngini = 0.5\\nsamples = 14\\nvalue = [7, 7]'),\n",
       " Text(257.9939629286085, 159.19714285714286, 'X[35] <= 0.5\\ngini = 0.346\\nsamples = 9\\nvalue = [2, 7]'),\n",
       " Text(256.6464885940227, 151.43142857142857, 'X[36] <= 0.5\\ngini = 0.219\\nsamples = 8\\nvalue = [1, 7]'),\n",
       " Text(255.29901425943686, 143.66571428571427, 'gini = 0.0\\nsamples = 7\\nvalue = [0, 7]'),\n",
       " Text(257.9939629286085, 143.66571428571427, 'gini = 0.0\\nsamples = 1\\nvalue = [1, 0]'),\n",
       " Text(259.3414372631943, 151.43142857142857, 'gini = 0.0\\nsamples = 1\\nvalue = [1, 0]'),\n",
       " Text(260.68891159778013, 159.19714285714286, 'gini = 0.0\\nsamples = 5\\nvalue = [5, 0]'),\n",
       " Text(263.38386026695173, 174.72857142857143, 'X[36] <= 0.5\\ngini = 0.32\\nsamples = 5\\nvalue = [1, 4]'),\n",
       " Text(262.03638593236593, 166.96285714285713, 'gini = 0.0\\nsamples = 4\\nvalue = [0, 4]'),\n",
       " Text(264.7313346015376, 166.96285714285713, 'gini = 0.0\\nsamples = 1\\nvalue = [1, 0]'),\n",
       " Text(267.4262832707092, 182.4942857142857, 'X[3] <= 570.5\\ngini = 0.219\\nsamples = 8\\nvalue = [1, 7]'),\n",
       " Text(266.0788089361234, 174.72857142857143, 'gini = 0.0\\nsamples = 7\\nvalue = [0, 7]'),\n",
       " Text(268.77375760529503, 174.72857142857143, 'gini = 0.0\\nsamples = 1\\nvalue = [1, 0]'),\n",
       " Text(274.1636549436383, 190.26, 'X[1] <= 2493.5\\ngini = 0.36\\nsamples = 17\\nvalue = [4, 13]'),\n",
       " Text(272.8161806090525, 182.4942857142857, 'X[5] <= 304.0\\ngini = 0.133\\nsamples = 14\\nvalue = [1, 13]'),\n",
       " Text(271.4687062744666, 174.72857142857143, 'gini = 0.0\\nsamples = 13\\nvalue = [0, 13]'),\n",
       " Text(274.1636549436383, 174.72857142857143, 'gini = 0.0\\nsamples = 1\\nvalue = [1, 0]'),\n",
       " Text(275.5111292782241, 182.4942857142857, 'gini = 0.0\\nsamples = 3\\nvalue = [3, 0]'),\n",
       " Text(307.4294275787256, 198.0257142857143, 'X[18] <= 0.5\\ngini = 0.499\\nsamples = 250\\nvalue = [130, 120]'),\n",
       " Text(287.46996399767323, 190.26, 'X[2] <= 7.5\\ngini = 0.476\\nsamples = 105\\nvalue = [41, 64]'),\n",
       " Text(278.2060779473957, 182.4942857142857, 'X[6] <= 1.5\\ngini = 0.444\\nsamples = 18\\nvalue = [12, 6]'),\n",
       " Text(276.85860361280993, 174.72857142857143, 'X[0] <= 58.5\\ngini = 0.375\\nsamples = 16\\nvalue = [12, 4]'),\n",
       " Text(275.5111292782241, 166.96285714285713, 'X[3] <= 1199.0\\ngini = 0.32\\nsamples = 15\\nvalue = [12, 3]'),\n",
       " Text(274.1636549436383, 159.19714285714286, 'X[16] <= 0.5\\ngini = 0.245\\nsamples = 14\\nvalue = [12, 2]'),\n",
       " Text(272.8161806090525, 151.43142857142857, 'X[33] <= 0.5\\ngini = 0.142\\nsamples = 13\\nvalue = [12, 1]'),\n",
       " Text(271.4687062744666, 143.66571428571427, 'gini = 0.0\\nsamples = 10\\nvalue = [10, 0]'),\n",
       " Text(274.1636549436383, 143.66571428571427, 'X[4] <= 2.5\\ngini = 0.444\\nsamples = 3\\nvalue = [2, 1]'),\n",
       " Text(272.8161806090525, 135.89999999999998, 'gini = 0.0\\nsamples = 2\\nvalue = [2, 0]'),\n",
       " Text(275.5111292782241, 135.89999999999998, 'gini = 0.0\\nsamples = 1\\nvalue = [0, 1]'),\n",
       " Text(275.5111292782241, 151.43142857142857, 'gini = 0.0\\nsamples = 1\\nvalue = [0, 1]'),\n",
       " Text(276.85860361280993, 159.19714285714286, 'gini = 0.0\\nsamples = 1\\nvalue = [0, 1]'),\n",
       " Text(278.2060779473957, 166.96285714285713, 'gini = 0.0\\nsamples = 1\\nvalue = [0, 1]'),\n",
       " Text(279.5535522819815, 174.72857142857143, 'gini = 0.0\\nsamples = 2\\nvalue = [0, 2]'),\n",
       " Text(296.7338500479507, 182.4942857142857, 'X[2] <= 18.5\\ngini = 0.444\\nsamples = 87\\nvalue = [29, 58]'),\n",
       " Text(287.6383982894964, 174.72857142857143, 'X[0] <= 55.0\\ngini = 0.283\\nsamples = 41\\nvalue = [7, 34]'),\n",
       " Text(283.595975285739, 166.96285714285713, 'X[15] <= 0.5\\ngini = 0.198\\nsamples = 36\\nvalue = [4, 32]'),\n",
       " Text(279.5535522819815, 159.19714285714286, 'X[5] <= 267.0\\ngini = 0.069\\nsamples = 28\\nvalue = [1, 27]'),\n",
       " Text(278.2060779473957, 151.43142857142857, 'gini = 0.0\\nsamples = 26\\nvalue = [0, 26]'),\n",
       " Text(280.9010266165674, 151.43142857142857, 'X[13] <= 0.5\\ngini = 0.5\\nsamples = 2\\nvalue = [1, 1]'),\n",
       " Text(279.5535522819815, 143.66571428571427, 'gini = 0.0\\nsamples = 1\\nvalue = [1, 0]'),\n",
       " Text(282.2485009511532, 143.66571428571427, 'gini = 0.0\\nsamples = 1\\nvalue = [0, 1]'),\n",
       " Text(287.6383982894964, 159.19714285714286, 'X[28] <= 0.5\\ngini = 0.469\\nsamples = 8\\nvalue = [3, 5]'),\n",
       " Text(286.2909239549106, 151.43142857142857, 'X[6] <= 2.5\\ngini = 0.375\\nsamples = 4\\nvalue = [3, 1]'),\n",
       " Text(284.9434496203248, 143.66571428571427, 'gini = 0.0\\nsamples = 3\\nvalue = [3, 0]'),\n",
       " Text(287.6383982894964, 143.66571428571427, 'gini = 0.0\\nsamples = 1\\nvalue = [0, 1]'),\n",
       " Text(288.9858726240823, 151.43142857142857, 'gini = 0.0\\nsamples = 4\\nvalue = [0, 4]'),\n",
       " Text(291.68082129325387, 166.96285714285713, 'X[1] <= 1085.5\\ngini = 0.48\\nsamples = 5\\nvalue = [3, 2]'),\n",
       " Text(290.3333469586681, 159.19714285714286, 'gini = 0.0\\nsamples = 3\\nvalue = [3, 0]'),\n",
       " Text(293.0282956278397, 159.19714285714286, 'gini = 0.0\\nsamples = 2\\nvalue = [0, 2]'),\n",
       " Text(305.82930180640494, 174.72857142857143, 'X[3] <= 976.5\\ngini = 0.499\\nsamples = 46\\nvalue = [22, 24]'),\n",
       " Text(299.76566730076877, 166.96285714285713, 'X[1] <= 294.0\\ngini = 0.471\\nsamples = 29\\nvalue = [18, 11]'),\n",
       " Text(295.7232442970113, 159.19714285714286, 'X[21] <= 0.5\\ngini = 0.142\\nsamples = 13\\nvalue = [12, 1]'),\n",
       " Text(294.3757699624255, 151.43142857142857, 'gini = 0.0\\nsamples = 11\\nvalue = [11, 0]'),\n",
       " Text(297.0707186315972, 151.43142857142857, 'X[0] <= 33.5\\ngini = 0.5\\nsamples = 2\\nvalue = [1, 1]'),\n",
       " Text(295.7232442970113, 143.66571428571427, 'gini = 0.0\\nsamples = 1\\nvalue = [0, 1]'),\n",
       " Text(298.41819296618297, 143.66571428571427, 'gini = 0.0\\nsamples = 1\\nvalue = [1, 0]'),\n",
       " Text(303.8080903045262, 159.19714285714286, 'X[10] <= 0.5\\ngini = 0.469\\nsamples = 16\\nvalue = [6, 10]'),\n",
       " Text(302.4606159699404, 151.43142857142857, 'X[21] <= 0.5\\ngini = 0.408\\nsamples = 14\\nvalue = [4, 10]'),\n",
       " Text(301.11314163535457, 143.66571428571427, 'X[0] <= 30.5\\ngini = 0.494\\nsamples = 9\\nvalue = [4, 5]'),\n",
       " Text(299.76566730076877, 135.89999999999998, 'gini = 0.0\\nsamples = 2\\nvalue = [2, 0]'),\n",
       " Text(302.4606159699404, 135.89999999999998, 'X[16] <= 0.5\\ngini = 0.408\\nsamples = 7\\nvalue = [2, 5]'),\n",
       " Text(301.11314163535457, 128.1342857142857, 'X[3] <= 913.5\\ngini = 0.278\\nsamples = 6\\nvalue = [1, 5]'),\n",
       " Text(299.76566730076877, 120.36857142857143, 'gini = 0.0\\nsamples = 5\\nvalue = [0, 5]'),\n",
       " Text(302.4606159699404, 120.36857142857143, 'gini = 0.0\\nsamples = 1\\nvalue = [1, 0]'),\n",
       " Text(303.8080903045262, 128.1342857142857, 'gini = 0.0\\nsamples = 1\\nvalue = [1, 0]'),\n",
       " Text(303.8080903045262, 143.66571428571427, 'gini = 0.0\\nsamples = 5\\nvalue = [0, 5]'),\n",
       " Text(305.155564639112, 151.43142857142857, 'gini = 0.0\\nsamples = 2\\nvalue = [2, 0]'),\n",
       " Text(311.8929363120411, 166.96285714285713, 'X[1] <= 1111.5\\ngini = 0.36\\nsamples = 17\\nvalue = [4, 13]'),\n",
       " Text(309.19798764286946, 159.19714285714286, 'X[15] <= 0.5\\ngini = 0.142\\nsamples = 13\\nvalue = [1, 12]'),\n",
       " Text(307.85051330828367, 151.43142857142857, 'gini = 0.0\\nsamples = 12\\nvalue = [0, 12]'),\n",
       " Text(310.5454619774553, 151.43142857142857, 'gini = 0.0\\nsamples = 1\\nvalue = [1, 0]'),\n",
       " Text(314.58788498121277, 159.19714285714286, 'X[2] <= 28.5\\ngini = 0.375\\nsamples = 4\\nvalue = [3, 1]'),\n",
       " Text(313.2404106466269, 151.43142857142857, 'gini = 0.0\\nsamples = 3\\nvalue = [3, 0]'),\n",
       " Text(315.93535931579856, 151.43142857142857, 'gini = 0.0\\nsamples = 1\\nvalue = [0, 1]'),\n",
       " Text(327.388891159778, 190.26, 'X[27] <= 0.5\\ngini = 0.474\\nsamples = 145\\nvalue = [89, 56]'),\n",
       " Text(322.67273098872766, 182.4942857142857, 'X[15] <= 0.5\\ngini = 0.498\\nsamples = 100\\nvalue = [53, 47]'),\n",
       " Text(319.977782319556, 174.72857142857143, 'X[0] <= 76.0\\ngini = 0.491\\nsamples = 90\\nvalue = [51, 39]'),\n",
       " Text(318.6303079849702, 166.96285714285713, 'X[3] <= 659.0\\ngini = 0.483\\nsamples = 86\\nvalue = [51, 35]'),\n",
       " Text(317.28283365038436, 159.19714285714286, 'gini = 0.0\\nsamples = 3\\nvalue = [0, 3]'),\n",
       " Text(319.977782319556, 159.19714285714286, 'X[4] <= 11.5\\ngini = 0.474\\nsamples = 83\\nvalue = [51, 32]'),\n",
       " Text(318.6303079849702, 151.43142857142857, 'X[3] <= 1460.5\\ngini = 0.466\\nsamples = 81\\nvalue = [51, 30]'),\n",
       " Text(317.28283365038436, 143.66571428571427, 'X[5] <= 201.0\\ngini = 0.48\\nsamples = 75\\nvalue = [45, 30]'),\n",
       " Text(314.58788498121277, 135.89999999999998, 'X[1] <= -303.0\\ngini = 0.467\\nsamples = 70\\nvalue = [44, 26]'),\n",
       " Text(313.2404106466269, 128.1342857142857, 'gini = 0.0\\nsamples = 2\\nvalue = [0, 2]'),\n",
       " Text(315.93535931579856, 128.1342857142857, 'X[25] <= 0.5\\ngini = 0.457\\nsamples = 68\\nvalue = [44, 24]'),\n",
       " Text(311.5560677283947, 120.36857142857143, 'X[4] <= 3.5\\ngini = 0.484\\nsamples = 56\\nvalue = [33, 23]'),\n",
       " Text(306.8399075573443, 112.60285714285713, 'X[1] <= 1603.5\\ngini = 0.444\\nsamples = 42\\nvalue = [28, 14]'),\n",
       " Text(301.45001021900106, 104.83714285714285, 'X[1] <= 859.0\\ngini = 0.375\\nsamples = 32\\nvalue = [24, 8]'),\n",
       " Text(300.1025358844152, 97.07142857142857, 'X[1] <= 313.0\\ngini = 0.472\\nsamples = 21\\nvalue = [13, 8]'),\n",
       " Text(296.0601128806578, 89.30571428571429, 'X[13] <= 0.5\\ngini = 0.26\\nsamples = 13\\nvalue = [11, 2]'),\n",
       " Text(294.71263854607196, 81.53999999999999, 'X[2] <= 19.5\\ngini = 0.153\\nsamples = 12\\nvalue = [11, 1]'),\n",
       " Text(293.36516421148616, 73.7742857142857, 'gini = 0.0\\nsamples = 10\\nvalue = [10, 0]'),\n",
       " Text(296.0601128806578, 73.7742857142857, 'X[41] <= 0.5\\ngini = 0.5\\nsamples = 2\\nvalue = [1, 1]'),\n",
       " Text(294.71263854607196, 66.00857142857143, 'gini = 0.0\\nsamples = 1\\nvalue = [1, 0]'),\n",
       " Text(297.4075872152436, 66.00857142857143, 'gini = 0.0\\nsamples = 1\\nvalue = [0, 1]'),\n",
       " Text(297.4075872152436, 81.53999999999999, 'gini = 0.0\\nsamples = 1\\nvalue = [0, 1]'),\n",
       " Text(304.14495888817265, 89.30571428571429, 'X[21] <= 0.5\\ngini = 0.375\\nsamples = 8\\nvalue = [2, 6]'),\n",
       " Text(302.79748455358686, 81.53999999999999, 'X[2] <= 14.5\\ngini = 0.48\\nsamples = 5\\nvalue = [2, 3]'),\n",
       " Text(301.45001021900106, 73.7742857142857, 'X[11] <= 0.5\\ngini = 0.444\\nsamples = 3\\nvalue = [2, 1]'),\n",
       " Text(300.1025358844152, 66.00857142857143, 'gini = 0.0\\nsamples = 2\\nvalue = [2, 0]'),\n",
       " Text(302.79748455358686, 66.00857142857143, 'gini = 0.0\\nsamples = 1\\nvalue = [0, 1]'),\n",
       " Text(304.14495888817265, 73.7742857142857, 'gini = 0.0\\nsamples = 2\\nvalue = [0, 2]'),\n",
       " Text(305.4924332227585, 81.53999999999999, 'gini = 0.0\\nsamples = 3\\nvalue = [0, 3]'),\n",
       " Text(302.79748455358686, 97.07142857142857, 'gini = 0.0\\nsamples = 11\\nvalue = [11, 0]'),\n",
       " Text(312.22980489568755, 104.83714285714285, 'X[0] <= 62.0\\ngini = 0.48\\nsamples = 10\\nvalue = [4, 6]'),\n",
       " Text(310.88233056110175, 97.07142857142857, 'X[14] <= 0.5\\ngini = 0.375\\nsamples = 8\\nvalue = [2, 6]'),\n",
       " Text(309.53485622651596, 89.30571428571429, 'X[12] <= 0.5\\ngini = 0.245\\nsamples = 7\\nvalue = [1, 6]'),\n",
       " Text(308.1873818919301, 81.53999999999999, 'gini = 0.0\\nsamples = 6\\nvalue = [0, 6]'),\n",
       " Text(310.88233056110175, 81.53999999999999, 'gini = 0.0\\nsamples = 1\\nvalue = [1, 0]'),\n",
       " Text(312.22980489568755, 89.30571428571429, 'gini = 0.0\\nsamples = 1\\nvalue = [1, 0]'),\n",
       " Text(313.5772792302734, 97.07142857142857, 'gini = 0.0\\nsamples = 2\\nvalue = [2, 0]'),\n",
       " Text(316.272227899445, 112.60285714285713, 'X[1] <= 640.0\\ngini = 0.459\\nsamples = 14\\nvalue = [5, 9]'),\n",
       " Text(314.9247535648592, 104.83714285714285, 'gini = 0.0\\nsamples = 5\\nvalue = [0, 5]'),\n",
       " Text(317.61970223403085, 104.83714285714285, 'X[3] <= 715.5\\ngini = 0.494\\nsamples = 9\\nvalue = [5, 4]'),\n",
       " Text(316.272227899445, 97.07142857142857, 'gini = 0.0\\nsamples = 2\\nvalue = [0, 2]'),\n",
       " Text(318.96717656861665, 97.07142857142857, 'X[28] <= 0.5\\ngini = 0.408\\nsamples = 7\\nvalue = [5, 2]'),\n",
       " Text(317.61970223403085, 89.30571428571429, 'gini = 0.0\\nsamples = 4\\nvalue = [4, 0]'),\n",
       " Text(320.31465090320245, 89.30571428571429, 'X[10] <= 0.5\\ngini = 0.444\\nsamples = 3\\nvalue = [1, 2]'),\n",
       " Text(318.96717656861665, 81.53999999999999, 'gini = 0.0\\nsamples = 2\\nvalue = [0, 2]'),\n",
       " Text(321.6621252377883, 81.53999999999999, 'gini = 0.0\\nsamples = 1\\nvalue = [1, 0]'),\n",
       " Text(320.31465090320245, 120.36857142857143, 'X[6] <= 1.0\\ngini = 0.153\\nsamples = 12\\nvalue = [11, 1]'),\n",
       " Text(318.96717656861665, 112.60285714285713, 'gini = 0.0\\nsamples = 11\\nvalue = [11, 0]'),\n",
       " Text(321.6621252377883, 112.60285714285713, 'gini = 0.0\\nsamples = 1\\nvalue = [0, 1]'),\n",
       " Text(319.977782319556, 135.89999999999998, 'X[20] <= 0.5\\ngini = 0.32\\nsamples = 5\\nvalue = [1, 4]'),\n",
       " Text(318.6303079849702, 128.1342857142857, 'gini = 0.0\\nsamples = 1\\nvalue = [1, 0]'),\n",
       " Text(321.3252566541418, 128.1342857142857, 'gini = 0.0\\nsamples = 4\\nvalue = [0, 4]'),\n",
       " Text(319.977782319556, 143.66571428571427, 'gini = 0.0\\nsamples = 6\\nvalue = [6, 0]'),\n",
       " Text(321.3252566541418, 151.43142857142857, 'gini = 0.0\\nsamples = 2\\nvalue = [0, 2]'),\n",
       " Text(321.3252566541418, 166.96285714285713, 'gini = 0.0\\nsamples = 4\\nvalue = [0, 4]'),\n",
       " Text(325.36767965789926, 174.72857142857143, 'X[5] <= 90.5\\ngini = 0.32\\nsamples = 10\\nvalue = [2, 8]'),\n",
       " Text(324.02020532331346, 166.96285714285713, 'X[1] <= 3849.5\\ngini = 0.198\\nsamples = 9\\nvalue = [1, 8]'),\n",
       " Text(322.67273098872766, 159.19714285714286, 'gini = 0.0\\nsamples = 7\\nvalue = [0, 7]'),\n",
       " Text(325.36767965789926, 159.19714285714286, 'X[24] <= 0.5\\ngini = 0.5\\nsamples = 2\\nvalue = [1, 1]'),\n",
       " Text(324.02020532331346, 151.43142857142857, 'gini = 0.0\\nsamples = 1\\nvalue = [1, 0]'),\n",
       " Text(326.7151539924851, 151.43142857142857, 'gini = 0.0\\nsamples = 1\\nvalue = [0, 1]'),\n",
       " Text(326.7151539924851, 166.96285714285713, 'gini = 0.0\\nsamples = 1\\nvalue = [1, 0]'),\n",
       " Text(332.10505133082836, 182.4942857142857, 'X[11] <= 0.5\\ngini = 0.32\\nsamples = 45\\nvalue = [36, 9]'),\n",
       " Text(330.75757699624256, 174.72857142857143, 'X[1] <= 443.5\\ngini = 0.273\\nsamples = 43\\nvalue = [36, 7]'),\n",
       " Text(329.4101026616567, 166.96285714285713, 'X[1] <= 54.0\\ngini = 0.403\\nsamples = 25\\nvalue = [18, 7]'),\n",
       " Text(328.0626283270709, 159.19714285714286, 'gini = 0.0\\nsamples = 9\\nvalue = [9, 0]'),\n",
       " Text(330.75757699624256, 159.19714285714286, 'X[0] <= 45.5\\ngini = 0.492\\nsamples = 16\\nvalue = [9, 7]'),\n",
       " Text(329.4101026616567, 151.43142857142857, 'X[3] <= 746.5\\ngini = 0.426\\nsamples = 13\\nvalue = [9, 4]'),\n",
       " Text(328.0626283270709, 143.66571428571427, 'gini = 0.0\\nsamples = 4\\nvalue = [4, 0]'),\n",
       " Text(330.75757699624256, 143.66571428571427, 'X[3] <= 834.5\\ngini = 0.494\\nsamples = 9\\nvalue = [5, 4]'),\n",
       " Text(329.4101026616567, 135.89999999999998, 'gini = 0.0\\nsamples = 3\\nvalue = [0, 3]'),\n",
       " Text(332.10505133082836, 135.89999999999998, 'X[21] <= 0.5\\ngini = 0.278\\nsamples = 6\\nvalue = [5, 1]'),\n",
       " Text(330.75757699624256, 128.1342857142857, 'gini = 0.0\\nsamples = 5\\nvalue = [5, 0]'),\n",
       " Text(333.45252566541416, 128.1342857142857, 'gini = 0.0\\nsamples = 1\\nvalue = [0, 1]'),\n",
       " Text(332.10505133082836, 151.43142857142857, 'gini = 0.0\\nsamples = 3\\nvalue = [0, 3]'),\n",
       " Text(332.10505133082836, 166.96285714285713, 'gini = 0.0\\nsamples = 18\\nvalue = [18, 0]'),\n",
       " Text(333.45252566541416, 174.72857142857143, 'gini = 0.0\\nsamples = 2\\nvalue = [0, 2]')]"
      ]
     },
     "execution_count": 13,
     "metadata": {},
     "output_type": "execute_result"
    },
    {
     "data": {
      "image/png": "[encoded data removed]",
      "text/plain": [
       "<Figure size 432x288 with 1 Axes>"
      ]
     },
     "metadata": {
      "needs_background": "light"
     },
     "output_type": "display_data"
    }
   ],
   "source": [
    "#Once trained, you can plot the tree with the plot_tree function\n",
    "\n",
    "tree.plot_tree(clf)"
   ]
  },
  {
   "cell_type": "code",
   "execution_count": 14,
   "metadata": {},
   "outputs": [
    {
     "data": {
      "text/plain": [
       "array([0.06870643, 0.10975582, 0.10210286, 0.24796706, 0.04146667,\n",
       "       0.05074318, 0.01321581, 0.00917298, 0.00490549, 0.00455486,\n",
       "       0.0083121 , 0.01138691, 0.00512612, 0.00869481, 0.00443963,\n",
       "       0.01498514, 0.00443737, 0.        , 0.01610804, 0.00142339,\n",
       "       0.0140154 , 0.01389341, 0.        , 0.00282606, 0.00447352,\n",
       "       0.00534012, 0.00542626, 0.01541465, 0.0157096 , 0.        ,\n",
       "       0.01528928, 0.0026278 , 0.00441252, 0.02039092, 0.01100886,\n",
       "       0.00589785, 0.01615715, 0.02748734, 0.0053095 , 0.        ,\n",
       "       0.08539169, 0.00142339])"
      ]
     },
     "execution_count": 14,
     "metadata": {},
     "output_type": "execute_result"
    }
   ],
   "source": [
    "clf.feature_importances_"
   ]
  },
  {
   "cell_type": "code",
   "execution_count": 17,
   "metadata": {},
   "outputs": [
    {
     "data": {
      "text/html": [
       "<div>\n",
       "<style scoped>\n",
       "    .dataframe tbody tr th:only-of-type {\n",
       "        vertical-align: middle;\n",
       "    }\n",
       "\n",
       "    .dataframe tbody tr th {\n",
       "        vertical-align: top;\n",
       "    }\n",
       "\n",
       "    .dataframe thead th {\n",
       "        text-align: right;\n",
       "    }\n",
       "</style>\n",
       "<table border=\"1\" class=\"dataframe\">\n",
       "  <thead>\n",
       "    <tr style=\"text-align: right;\">\n",
       "      <th></th>\n",
       "      <th>0</th>\n",
       "      <th>1</th>\n",
       "      <th>2</th>\n",
       "      <th>3</th>\n",
       "      <th>4</th>\n",
       "      <th>5</th>\n",
       "      <th>6</th>\n",
       "      <th>7</th>\n",
       "      <th>8</th>\n",
       "      <th>9</th>\n",
       "      <th>...</th>\n",
       "      <th>32</th>\n",
       "      <th>33</th>\n",
       "      <th>34</th>\n",
       "      <th>35</th>\n",
       "      <th>36</th>\n",
       "      <th>37</th>\n",
       "      <th>38</th>\n",
       "      <th>39</th>\n",
       "      <th>40</th>\n",
       "      <th>41</th>\n",
       "    </tr>\n",
       "  </thead>\n",
       "  <tbody>\n",
       "    <tr>\n",
       "      <th>0</th>\n",
       "      <td>duration</td>\n",
       "      <td>balance</td>\n",
       "      <td>day</td>\n",
       "      <td>poutcome_success</td>\n",
       "      <td>age</td>\n",
       "      <td>pdays</td>\n",
       "      <td>campaign</td>\n",
       "      <td>month_oct</td>\n",
       "      <td>month_jun</td>\n",
       "      <td>month_nov</td>\n",
       "      <td>...</td>\n",
       "      <td>job_unemployed</td>\n",
       "      <td>month_jul</td>\n",
       "      <td>default_yes</td>\n",
       "      <td>month_jan</td>\n",
       "      <td>marital_single</td>\n",
       "      <td>poutcome_unknown</td>\n",
       "      <td>job_unknown</td>\n",
       "      <td>month_dec</td>\n",
       "      <td>education_unknown</td>\n",
       "      <td>poutcome_other</td>\n",
       "    </tr>\n",
       "    <tr>\n",
       "      <th>1</th>\n",
       "      <td>0.247967</td>\n",
       "      <td>0.109756</td>\n",
       "      <td>0.102103</td>\n",
       "      <td>0.0853917</td>\n",
       "      <td>0.0687064</td>\n",
       "      <td>0.0507432</td>\n",
       "      <td>0.0414667</td>\n",
       "      <td>0.0274873</td>\n",
       "      <td>0.0203909</td>\n",
       "      <td>0.0161571</td>\n",
       "      <td>...</td>\n",
       "      <td>0.00443737</td>\n",
       "      <td>0.00441252</td>\n",
       "      <td>0.00282606</td>\n",
       "      <td>0.0026278</td>\n",
       "      <td>0.00142339</td>\n",
       "      <td>0.00142339</td>\n",
       "      <td>0</td>\n",
       "      <td>0</td>\n",
       "      <td>0</td>\n",
       "      <td>0</td>\n",
       "    </tr>\n",
       "  </tbody>\n",
       "</table>\n",
       "<p>2 rows × 42 columns</p>\n",
       "</div>"
      ],
      "text/plain": [
       "         0         1         2                 3          4          5   \\\n",
       "0  duration   balance       day  poutcome_success        age      pdays   \n",
       "1  0.247967  0.109756  0.102103         0.0853917  0.0687064  0.0507432   \n",
       "\n",
       "          6          7          8          9   ...              32  \\\n",
       "0   campaign  month_oct  month_jun  month_nov  ...  job_unemployed   \n",
       "1  0.0414667  0.0274873  0.0203909  0.0161571  ...      0.00443737   \n",
       "\n",
       "           33           34         35              36                37  \\\n",
       "0   month_jul  default_yes  month_jan  marital_single  poutcome_unknown   \n",
       "1  0.00441252   0.00282606  0.0026278      0.00142339        0.00142339   \n",
       "\n",
       "            38         39                 40              41  \n",
       "0  job_unknown  month_dec  education_unknown  poutcome_other  \n",
       "1            0          0                  0               0  \n",
       "\n",
       "[2 rows x 42 columns]"
      ]
     },
     "execution_count": 17,
     "metadata": {},
     "output_type": "execute_result"
    }
   ],
   "source": [
    "#Finding the importance of each feature\n",
    "clf.feature_importances_\n",
    "features = data.columns\n",
    "importances = clf.feature_importances_\n",
    "indices = np.argsort(importances)[::-1]\n",
    "pd.DataFrame([data.columns[indices],np.sort(importances)[::-1]])"
   ]
  },
  {
   "cell_type": "code",
   "execution_count": 18,
   "metadata": {},
   "outputs": [
    {
     "data": {
      "image/png": "[encoded data removed]",
      "text/plain": [
       "<Figure size 432x288 with 1 Axes>"
      ]
     },
     "metadata": {
      "needs_background": "light"
     },
     "output_type": "display_data"
    }
   ],
   "source": [
    "#Ploting the Feature importances\n",
    "plt.title('Feature Importances')\n",
    "plt.barh(range(len(indices)), importances[indices], color='blue')\n",
    "plt.yticks(range(len(indices)), [features[i] for i in indices])\n",
    "plt.xlabel('Relative Importance')\n",
    "plt.show()"
   ]
  },
  {
   "cell_type": "code",
   "execution_count": 19,
   "metadata": {},
   "outputs": [],
   "source": [
    "#Predicting on Train and Test\n",
    "train_pred = clf.predict(X_train)\n",
    "test_pred = clf.predict(X_test)"
   ]
  },
  {
   "cell_type": "code",
   "execution_count": 20,
   "metadata": {},
   "outputs": [
    {
     "data": {
      "text/plain": [
       "array([0, 0, 0, ..., 0, 0, 0], dtype=uint8)"
      ]
     },
     "execution_count": 20,
     "metadata": {},
     "output_type": "execute_result"
    }
   ],
   "source": [
    "train_pred"
   ]
  },
  {
   "cell_type": "code",
   "execution_count": 21,
   "metadata": {},
   "outputs": [
    {
     "data": {
      "text/plain": [
       "array([0, 1, 0, ..., 0, 0, 0], dtype=uint8)"
      ]
     },
     "execution_count": 21,
     "metadata": {},
     "output_type": "execute_result"
    }
   ],
   "source": [
    "test_pred"
   ]
  },
  {
   "cell_type": "code",
   "execution_count": 22,
   "metadata": {},
   "outputs": [
    {
     "name": "stdout",
     "output_type": "stream",
     "text": [
      "[[2992    0]\n",
      " [   0  398]]\n",
      "[[944  64]\n",
      " [ 66  57]]\n"
     ]
    }
   ],
   "source": [
    "#Getting evaluation metrics and evaluating model performance\n",
    "confusion_matrix_test = confusion_matrix(y_test, test_pred)\n",
    "confusion_matrix_train = confusion_matrix(y_train, train_pred)\n",
    "\n",
    "print(confusion_matrix_train)\n",
    "print(confusion_matrix_test)"
   ]
  },
  {
   "cell_type": "code",
   "execution_count": 23,
   "metadata": {},
   "outputs": [
    {
     "name": "stdout",
     "output_type": "stream",
     "text": [
      "Train TNR:  1.0\n",
      "Train TPR:  1.0\n",
      "Train Accuracy:  1.0\n"
     ]
    }
   ],
   "source": [
    "#Calculate Accuracy, True Positive Rate and True Negative Rates\n",
    "Accuracy_Train=(confusion_matrix_train[0,0]+confusion_matrix_train[1,1])/(confusion_matrix_train[0,0]+confusion_matrix_train[0,1]+confusion_matrix_train[1,0]+confusion_matrix_train[1,1])\n",
    "TNR_Train= confusion_matrix_train[0,0]/(confusion_matrix_train[0,0]+confusion_matrix_train[0,1])\n",
    "TPR_Train= confusion_matrix_train[1,1]/(confusion_matrix_train[1,0]+confusion_matrix_train[1,1])\n",
    "\n",
    "print(\"Train TNR: \",TNR_Train)\n",
    "print(\"Train TPR: \",TPR_Train)\n",
    "print(\"Train Accuracy: \",Accuracy_Train)"
   ]
  },
  {
   "cell_type": "code",
   "execution_count": 24,
   "metadata": {},
   "outputs": [
    {
     "name": "stdout",
     "output_type": "stream",
     "text": [
      "Test TNR:  0.9365079365079365\n",
      "Test TPR:  0.4634146341463415\n",
      "Test Accuracy:  0.8850574712643678\n"
     ]
    }
   ],
   "source": [
    "Accuracy_Test=(confusion_matrix_test[0,0]+confusion_matrix_test[1,1])/(confusion_matrix_test[0,0]+confusion_matrix_test[0,1]+confusion_matrix_test[1,0]+confusion_matrix_test[1,1])\n",
    "TNR_Test= confusion_matrix_test[0,0]/(confusion_matrix_test[0,0] +confusion_matrix_test[0,1])\n",
    "TPR_Test= confusion_matrix_test[1,1]/(confusion_matrix_test[1,0] +confusion_matrix_test[1,1])\n",
    "\n",
    "print(\"Test TNR: \",TNR_Test)\n",
    "print(\"Test TPR: \",TPR_Test)\n",
    "print(\"Test Accuracy: \",Accuracy_Test)"
   ]
  },
  {
   "cell_type": "code",
   "execution_count": 25,
   "metadata": {},
   "outputs": [
    {
     "name": "stdout",
     "output_type": "stream",
     "text": [
      "[[2992    0]\n",
      " [   0  398]]\n",
      "[[932  76]\n",
      " [ 71  52]]\n",
      "Train TNR:  1.0\n",
      "Train TPR:  1.0\n",
      "Train Accuracy:  1.0\n",
      "Test TNR:  0.9246031746031746\n",
      "Test TPR:  0.42276422764227645\n",
      "Test Accuracy:  0.870026525198939\n"
     ]
    }
   ],
   "source": [
    "#Building Decision Tree Model using Variable Importance\n",
    "select = indices[0:10]\n",
    "clf = tree.DecisionTreeClassifier(max_depth=25)\n",
    "clf = clf.fit(X_train[:,select], y_train)\n",
    "\n",
    "#Predicting on Train and Test\n",
    "train_pred = clf.predict(X_train[:,select])\n",
    "test_pred = clf.predict(X_test[:,select])\n",
    "\n",
    "#Getting evaluation metrics and evaluating model performance\n",
    "confusion_matrix_test = confusion_matrix(y_test, test_pred)\n",
    "confusion_matrix_train = confusion_matrix(y_train, train_pred)\n",
    "\n",
    "print(confusion_matrix_train)\n",
    "print(confusion_matrix_test)\n",
    "\n",
    "#Calculate Accuracy, True Positive Rate and True Negative Rates\n",
    "Accuracy_Train=(confusion_matrix_train[0,0]+confusion_matrix_train[1,1])/(confusion_matrix_train[0,0]+confusion_matrix_train[0,1]+confusion_matrix_train[1,0]+confusion_matrix_train[1,1])\n",
    "TNR_Train= confusion_matrix_train[0,0]/(confusion_matrix_train[0,0]+confusion_matrix_train[0,1])\n",
    "TPR_Train= confusion_matrix_train[1,1]/(confusion_matrix_train[1,0]+confusion_matrix_train[1,1])\n",
    "\n",
    "print(\"Train TNR: \",TNR_Train)\n",
    "print(\"Train TPR: \",TPR_Train)\n",
    "print(\"Train Accuracy: \",Accuracy_Train)\n",
    "\n",
    "Accuracy_Test=(confusion_matrix_test[0,0]+confusion_matrix_test[1,1])/(confusion_matrix_test[0,0]+confusion_matrix_test[0,1]+confusion_matrix_test[1,0]+confusion_matrix_test[1,1])\n",
    "TNR_Test= confusion_matrix_test[0,0]/(confusion_matrix_test[0,0] +confusion_matrix_test[0,1])\n",
    "TPR_Test= confusion_matrix_test[1,1]/(confusion_matrix_test[1,0] +confusion_matrix_test[1,1])\n",
    "\n",
    "print(\"Test TNR: \",TNR_Test)\n",
    "print(\"Test TPR: \",TPR_Test)\n",
    "print(\"Test Accuracy: \",Accuracy_Test)"
   ]
  },
  {
   "cell_type": "code",
   "execution_count": 26,
   "metadata": {},
   "outputs": [
    {
     "data": {
      "image/png": "[encoded data removed]",
      "text/plain": [
       "<Figure size 432x288 with 1 Axes>"
      ]
     },
     "metadata": {
      "needs_background": "light"
     },
     "output_type": "display_data"
    }
   ],
   "source": [
    "#How do we arrive at the best tree depth for this data?\n",
    "max_depths = np.linspace(1, 32, 32, endpoint=True)\n",
    "\n",
    "train_results = []\n",
    "test_results = []\n",
    "\n",
    "for max_depth in max_depths:\n",
    "    dt = tree.DecisionTreeClassifier(max_depth=max_depth)\n",
    "    dt.fit(X_train, y_train)\n",
    "\n",
    "    train_pred = dt.predict(X_train)\n",
    "    confusion_matrix_train = confusion_matrix(y_train, train_pred)\n",
    "    Accuracy_Train=(confusion_matrix_train[0,0]+confusion_matrix_train[1,1])/(confusion_matrix_train[0,0]+confusion_matrix_train[0,1]+confusion_matrix_train[1,0]+confusion_matrix_train[1,1])\n",
    "    train_results.append(Accuracy_Train)\n",
    "\n",
    "    test_pred = dt.predict(X_test)\n",
    "    confusion_matrix_test = confusion_matrix(y_test, test_pred)\n",
    "    Accuracy_Test=(confusion_matrix_test[0,0]+confusion_matrix_test[1,1])/(confusion_matrix_test[0,0]+confusion_matrix_test[0,1]+confusion_matrix_test[1,0]+confusion_matrix_test[1,1])\n",
    "    test_results.append(Accuracy_Test)\n",
    "\n",
    "from matplotlib.legend_handler import HandlerLine2D\n",
    "line1, = plt.plot(max_depths, train_results,'b', label='Train Accuracy')\n",
    "line2, = plt.plot(max_depths, test_results,'r', label='Test Accuracy')\n",
    "plt.legend(handler_map={line1: HandlerLine2D(numpoints=2)})\n",
    "plt.ylabel('Accuracy')\n",
    "plt.xlabel('Tree depth')\n",
    "plt.show()"
   ]
  },
  {
   "cell_type": "code",
   "execution_count": 27,
   "metadata": {},
   "outputs": [
    {
     "name": "stdout",
     "output_type": "stream",
     "text": [
      "[[2904   88]\n",
      " [ 258  140]]\n",
      "[[970  38]\n",
      " [ 76  47]]\n",
      "Train TNR:  0.9705882352941176\n",
      "Train TPR:  0.35175879396984927\n",
      "Train Accuracy:  0.8979351032448377\n",
      "Test TNR:  0.9623015873015873\n",
      "Test TPR:  0.3821138211382114\n",
      "Test Accuracy:  0.8992042440318302\n"
     ]
    }
   ],
   "source": [
    "#Building Decision Tree Model using Variable Importance\n",
    "select = indices[0:10]\n",
    "clf = tree.DecisionTreeClassifier(max_depth=3)\n",
    "clf = clf.fit(X_train[:,select], y_train)\n",
    "\n",
    "#Predicting on Train and Test\n",
    "train_pred = clf.predict(X_train[:,select])\n",
    "test_pred = clf.predict(X_test[:,select])\n",
    "\n",
    "#Getting evaluation metrics and evaluating model performance\n",
    "confusion_matrix_test = confusion_matrix(y_test, test_pred)\n",
    "confusion_matrix_train = confusion_matrix(y_train, train_pred)\n",
    "\n",
    "print(confusion_matrix_train)\n",
    "print(confusion_matrix_test)\n",
    "\n",
    "#Calculate Accuracy, True Positive Rate and True Negative Rates\n",
    "Accuracy_Train=(confusion_matrix_train[0,0]+confusion_matrix_train[1,1])/(confusion_matrix_train[0,0]+confusion_matrix_train[0,1]+confusion_matrix_train[1,0]+confusion_matrix_train[1,1])\n",
    "TNR_Train= confusion_matrix_train[0,0]/(confusion_matrix_train[0,0]+confusion_matrix_train[0,1])\n",
    "TPR_Train= confusion_matrix_train[1,1]/(confusion_matrix_train[1,0]+confusion_matrix_train[1,1])\n",
    "\n",
    "print(\"Train TNR: \",TNR_Train)\n",
    "print(\"Train TPR: \",TPR_Train)\n",
    "print(\"Train Accuracy: \",Accuracy_Train)\n",
    "\n",
    "Accuracy_Test=(confusion_matrix_test[0,0]+confusion_matrix_test[1,1])/(confusion_matrix_test[0,0]+confusion_matrix_test[0,1]+confusion_matrix_test[1,0]+confusion_matrix_test[1,1])\n",
    "TNR_Test= confusion_matrix_test[0,0]/(confusion_matrix_test[0,0] +confusion_matrix_test[0,1])\n",
    "TPR_Test= confusion_matrix_test[1,1]/(confusion_matrix_test[1,0] +confusion_matrix_test[1,1])\n",
    "\n",
    "print(\"Test TNR: \",TNR_Test)\n",
    "print(\"Test TPR: \",TPR_Test)\n",
    "print(\"Test Accuracy: \",Accuracy_Test)"
   ]
  },
  {
   "cell_type": "code",
   "execution_count": 28,
   "metadata": {},
   "outputs": [
    {
     "name": "stdout",
     "output_type": "stream",
     "text": [
      "[[2903   89]\n",
      " [ 222  176]]\n",
      "[[965  43]\n",
      " [ 68  55]]\n",
      "Train TNR:  0.9702540106951871\n",
      "Train TPR:  0.44221105527638194\n",
      "Train Accuracy:  0.908259587020649\n",
      "Test TNR:  0.9573412698412699\n",
      "Test TPR:  0.44715447154471544\n",
      "Test Accuracy:  0.9018567639257294\n"
     ]
    }
   ],
   "source": [
    "#Building Decision Tree Model using Variable Importance\n",
    "select = indices[0:10]\n",
    "clf = tree.DecisionTreeClassifier(max_depth=4)\n",
    "clf = clf.fit(X_train[:,select], y_train)\n",
    "\n",
    "#Predicting on Train and Test\n",
    "train_pred = clf.predict(X_train[:,select])\n",
    "test_pred = clf.predict(X_test[:,select])\n",
    "\n",
    "#Getting evaluation metrics and evaluating model performance\n",
    "confusion_matrix_test = confusion_matrix(y_test, test_pred)\n",
    "confusion_matrix_train = confusion_matrix(y_train, train_pred)\n",
    "\n",
    "print(confusion_matrix_train)\n",
    "print(confusion_matrix_test)\n",
    "\n",
    "#Calculate Accuracy, True Positive Rate and True Negative Rates\n",
    "Accuracy_Train=(confusion_matrix_train[0,0]+confusion_matrix_train[1,1])/(confusion_matrix_train[0,0]+confusion_matrix_train[0,1]+confusion_matrix_train[1,0]+confusion_matrix_train[1,1])\n",
    "TNR_Train= confusion_matrix_train[0,0]/(confusion_matrix_train[0,0]+confusion_matrix_train[0,1])\n",
    "TPR_Train= confusion_matrix_train[1,1]/(confusion_matrix_train[1,0]+confusion_matrix_train[1,1])\n",
    "\n",
    "print(\"Train TNR: \",TNR_Train)\n",
    "print(\"Train TPR: \",TPR_Train)\n",
    "print(\"Train Accuracy: \",Accuracy_Train)\n",
    "\n",
    "Accuracy_Test=(confusion_matrix_test[0,0]+confusion_matrix_test[1,1])/(confusion_matrix_test[0,0]+confusion_matrix_test[0,1]+confusion_matrix_test[1,0]+confusion_matrix_test[1,1])\n",
    "TNR_Test= confusion_matrix_test[0,0]/(confusion_matrix_test[0,0] +confusion_matrix_test[0,1])\n",
    "TPR_Test= confusion_matrix_test[1,1]/(confusion_matrix_test[1,0] +confusion_matrix_test[1,1])\n",
    "\n",
    "print(\"Test TNR: \",TNR_Test)\n",
    "print(\"Test TPR: \",TPR_Test)\n",
    "print(\"Test Accuracy: \",Accuracy_Test)"
   ]
  },
  {
   "cell_type": "code",
   "execution_count": 29,
   "metadata": {},
   "outputs": [
    {
     "data": {
      "text/plain": [
       "DecisionTreeClassifier(ccp_alpha=0.0, class_weight=None, criterion='gini',\n",
       "                       max_depth=10, max_features=None, max_leaf_nodes=20,\n",
       "                       min_impurity_decrease=0.0, min_impurity_split=None,\n",
       "                       min_samples_leaf=1, min_samples_split=20,\n",
       "                       min_weight_fraction_leaf=0.0, presort='deprecated',\n",
       "                       random_state=None, splitter='best')"
      ]
     },
     "execution_count": 29,
     "metadata": {},
     "output_type": "execute_result"
    }
   ],
   "source": [
    "#set of parameters to test\n",
    "param_grid = {\"criterion\": [\"gini\", \"entropy\"],\n",
    "              \"min_samples_split\": [2, 10, 20],\n",
    "              \"max_depth\": [None, 2, 5, 10],\n",
    "              \"min_samples_leaf\": [1, 5, 10],\n",
    "              \"max_leaf_nodes\": [None, 5, 10, 20],\n",
    "              }\n",
    "\n",
    "#Use the GridSearchCV\n",
    "dt = tree.DecisionTreeClassifier() #estimator\n",
    "clf2 = GridSearchCV(dt, param_grid, cv=3)\n",
    "clf2.fit(X_train, y_train)\n",
    "clf2.best_estimator_"
   ]
  },
  {
   "cell_type": "code",
   "execution_count": 30,
   "metadata": {},
   "outputs": [],
   "source": [
    "#Predicting on Train and Test\n",
    "train_pred = clf2.predict(X_train)\n",
    "test_pred = clf2.predict(X_test)"
   ]
  },
  {
   "cell_type": "code",
   "execution_count": 31,
   "metadata": {},
   "outputs": [
    {
     "name": "stdout",
     "output_type": "stream",
     "text": [
      "Train TNR:  0.9756016042780749\n",
      "Train TPR:  0.3944723618090452\n",
      "Train Accuracy:  0.9073746312684365\n",
      "Test TNR:  0.9702380952380952\n",
      "Test TPR:  0.37398373983739835\n",
      "Test Accuracy:  0.905393457117595\n"
     ]
    }
   ],
   "source": [
    "#Getting evaluation metrics and evaluating model performance\n",
    "confusion_matrix_test = confusion_matrix(y_test, test_pred)\n",
    "confusion_matrix_train = confusion_matrix(y_train, train_pred)\n",
    "\n",
    "Accuracy_Train=(confusion_matrix_train[0,0]+confusion_matrix_train[1,1])/(confusion_matrix_train[0,0]+confusion_matrix_train[0,1]+confusion_matrix_train[1,0]+confusion_matrix_train[1,1])\n",
    "TNR_Train= confusion_matrix_train[0,0]/(confusion_matrix_train[0,0]+confusion_matrix_train[0,1])\n",
    "TPR_Train= confusion_matrix_train[1,1]/(confusion_matrix_train[1,0]+confusion_matrix_train[1,1])\n",
    "\n",
    "print(\"Train TNR: \",TNR_Train)\n",
    "print(\"Train TPR: \",TPR_Train)\n",
    "print(\"Train Accuracy: \",Accuracy_Train)\n",
    "\n",
    "Accuracy_Test=(confusion_matrix_test[0,0]+confusion_matrix_test[1,1])/(confusion_matrix_test[0,0]+confusion_matrix_test[0,1]+confusion_matrix_test[1,0]+confusion_matrix_test[1,1])\n",
    "TNR_Test= confusion_matrix_test[0,0]/(confusion_matrix_test[0,0] +confusion_matrix_test[0,1])\n",
    "TPR_Test= confusion_matrix_test[1,1]/(confusion_matrix_test[1,0] +confusion_matrix_test[1,1])\n",
    "\n",
    "print(\"Test TNR: \",TNR_Test)\n",
    "print(\"Test TPR: \",TPR_Test)\n",
    "print(\"Test Accuracy: \",Accuracy_Test)"
   ]
  },
  {
   "cell_type": "code",
   "execution_count": 32,
   "metadata": {},
   "outputs": [
    {
     "data": {
      "image/png": "[encoded data removed]",
      "text/plain": [
       "<Figure size 432x288 with 1 Axes>"
      ]
     },
     "metadata": {
      "needs_background": "light"
     },
     "output_type": "display_data"
    }
   ],
   "source": [
    "#Finding the importance of each feature\n",
    "clf2.best_estimator_.feature_importances_\n",
    "features = data.columns\n",
    "importances = clf2.best_estimator_.feature_importances_\n",
    "indices = np.argsort(importances)[::-1]\n",
    "pd.DataFrame([data.columns[indices],np.sort(importances)[::-1]])\n",
    "\n",
    "#Ploting the Feature importances\n",
    "plt.title('Feature Importances')\n",
    "plt.barh(range(len(indices)), importances[indices], color='blue')\n",
    "plt.yticks(range(len(indices)), [features[i] for i in indices])\n",
    "plt.xlabel('Relative Importance')\n",
    "plt.show()"
   ]
  },
  {
   "cell_type": "code",
   "execution_count": 33,
   "metadata": {},
   "outputs": [
    {
     "data": {
      "image/png": "[encoded data removed]",
      "text/plain": [
       "<Figure size 432x288 with 1 Axes>"
      ]
     },
     "metadata": {
      "needs_background": "light"
     },
     "output_type": "display_data"
    }
   ],
   "source": [
    "#How do we arrive at the best tree depth for this data?\n",
    "max_depths = np.linspace(1, 32, 32, endpoint=True)\n",
    "\n",
    "train_results = []\n",
    "test_results = []\n",
    "\n",
    "for max_depth in max_depths:\n",
    "    dt = tree.DecisionTreeClassifier(max_depth=max_depth)\n",
    "    dt.fit(X_train, y_train)\n",
    "\n",
    "    train_pred = dt.predict(X_train)\n",
    "    confusion_matrix_train = confusion_matrix(y_train, train_pred)\n",
    "    Accuracy_Train=(confusion_matrix_train[0,0]+confusion_matrix_train[1,1])/(confusion_matrix_train[0,0]+confusion_matrix_train[0,1]+confusion_matrix_train[1,0]+confusion_matrix_train[1,1])\n",
    "    train_results.append(Accuracy_Train)\n",
    "\n",
    "    test_pred = dt.predict(X_test)\n",
    "    confusion_matrix_test = confusion_matrix(y_test, test_pred)\n",
    "    Accuracy_Test=(confusion_matrix_test[0,0]+confusion_matrix_test[1,1])/(confusion_matrix_test[0,0]+confusion_matrix_test[0,1]+confusion_matrix_test[1,0]+confusion_matrix_test[1,1])\n",
    "    test_results.append(Accuracy_Test)\n",
    "\n",
    "from matplotlib.legend_handler import HandlerLine2D\n",
    "line1, = plt.plot(max_depths, train_results,'b', label='Train Accuracy')\n",
    "line2, = plt.plot(max_depths, test_results,'r', label='Test Accuracy')\n",
    "plt.legend(handler_map={line1: HandlerLine2D(numpoints=2)})\n",
    "plt.ylabel('Accuracy')\n",
    "plt.xlabel('Tree depth')\n",
    "plt.show()"
   ]
  },
  {
   "cell_type": "code",
   "execution_count": 34,
   "metadata": {},
   "outputs": [
    {
     "data": {
      "image/png": "[encoded data removed]",
      "text/plain": [
       "<Figure size 432x288 with 1 Axes>"
      ]
     },
     "metadata": {
      "needs_background": "light"
     },
     "output_type": "display_data"
    }
   ],
   "source": [
    "#How do we arrive at the best tree min samples split for this data?\n",
    "#min_samples_splits = np.linspace(2, 31, 30, endpoint=True)\n",
    "\n",
    "min_samples_splits=[2,6,10,14,18,22,26,30,34,38,42,46,50]\n",
    "\n",
    "train_results = []\n",
    "test_results = []\n",
    "\n",
    "for min_samples_split in min_samples_splits:\n",
    "    dt = tree.DecisionTreeClassifier(min_samples_split=min_samples_split)\n",
    "    dt.fit(X_train, y_train)\n",
    "\n",
    "    train_pred = dt.predict(X_train)\n",
    "    confusion_matrix_train = confusion_matrix(y_train, train_pred)\n",
    "    Accuracy_Train=(confusion_matrix_train[0,0]+confusion_matrix_train[1,1])/(confusion_matrix_train[0,0]+confusion_matrix_train[0,1]+confusion_matrix_train[1,0]+confusion_matrix_train[1,1])\n",
    "    train_results.append(Accuracy_Train)\n",
    "\n",
    "    test_pred = dt.predict(X_test)\n",
    "    confusion_matrix_test = confusion_matrix(y_test, test_pred)\n",
    "    Accuracy_Test=(confusion_matrix_test[0,0]+confusion_matrix_test[1,1])/(confusion_matrix_test[0,0]+confusion_matrix_test[0,1]+confusion_matrix_test[1,0]+confusion_matrix_test[1,1])\n",
    "    test_results.append(Accuracy_Test)\n",
    "\n",
    "from matplotlib.legend_handler import HandlerLine2D\n",
    "line1, = plt.plot(min_samples_splits, train_results,'b', label='Train Accuracy')\n",
    "line2, = plt.plot(min_samples_splits, test_results,'r', label='Test Accuracy')\n",
    "plt.legend(handler_map={line1: HandlerLine2D(numpoints=2)})\n",
    "plt.ylabel('Accuracy')\n",
    "plt.xlabel('Tree min samples split')\n",
    "plt.show()"
   ]
  },
  {
   "cell_type": "code",
   "execution_count": 35,
   "metadata": {},
   "outputs": [],
   "source": [
    "#Predicting on Train and Test\n",
    "train_pred = clf2.predict(X_train)\n",
    "test_pred = clf2.predict(X_test)"
   ]
  },
  {
   "cell_type": "code",
   "execution_count": 36,
   "metadata": {},
   "outputs": [
    {
     "data": {
      "text/plain": [
       "array([0, 0, 0, ..., 0, 0, 0], dtype=uint8)"
      ]
     },
     "execution_count": 36,
     "metadata": {},
     "output_type": "execute_result"
    }
   ],
   "source": [
    "test_pred"
   ]
  },
  {
   "cell_type": "code",
   "execution_count": 37,
   "metadata": {},
   "outputs": [
    {
     "name": "stdout",
     "output_type": "stream",
     "text": [
      "Collecting package metadata (current_repodata.json): ...working... done\n",
      "Solving environment: ...working... done\n",
      "\n",
      "# All requested packages already installed.\n",
      "\n",
      "Collecting package metadata (current_repodata.json): ...working... done\n",
      "Solving environment: ...working... done\n",
      "\n",
      "# All requested packages already installed.\n",
      "\n"
     ]
    }
   ],
   "source": [
    "#Visualizing Decision Trees\n",
    "#Install the libraries\n",
    "!conda install --yes python-graphviz\n",
    "!conda install --yes graphviz"
   ]
  },
  {
   "cell_type": "code",
   "execution_count": 38,
   "metadata": {},
   "outputs": [],
   "source": [
    "#Render the model\n",
    "dot_data = tree.export_graphviz(clf2.best_estimator_, out_file=None, \n",
    "                                feature_names=data.drop(['y_yes'], axis = 1).columns,\n",
    "                                class_names=['No','Yes'], \n",
    "                                filled=True, rounded=True, special_characters=True) "
   ]
  },
  {
   "cell_type": "code",
   "execution_count": 39,
   "metadata": {},
   "outputs": [],
   "source": [
    "import graphviz"
   ]
  },
  {
   "cell_type": "code",
   "execution_count": 40,
   "metadata": {},
   "outputs": [
    {
     "data": {
      "text/plain": [
       "'Subscription_term_deposit.pdf'"
      ]
     },
     "execution_count": 40,
     "metadata": {},
     "output_type": "execute_result"
    }
   ],
   "source": [
    "graph = graphviz.Source(dot_data) \n",
    "graph\n",
    "graph.render(\"Subscription_term_deposit\")"
   ]
  },
  {
   "cell_type": "code",
   "execution_count": null,
   "metadata": {},
   "outputs": [],
   "source": []
  }
 ],
 "metadata": {
  "kernelspec": {
   "display_name": "Python 3",
   "language": "python",
   "name": "python3"
  },
  "language_info": {
   "codemirror_mode": {
    "name": "ipython",
    "version": 3
   },
   "file_extension": ".py",
   "mimetype": "text/x-python",
   "name": "python",
   "nbconvert_exporter": "python",
   "pygments_lexer": "ipython3",
   "version": "3.7.6"
  }
 },
 "nbformat": 4,
 "nbformat_minor": 4
}
